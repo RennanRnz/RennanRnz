{
  "cells": [
    {
      "cell_type": "markdown",
      "metadata": {
        "id": "view-in-github",
        "colab_type": "text"
      },
      "source": [
        "<a href=\"https://colab.research.google.com/github/RennanRnz/RennanRnz/blob/main/Exerc%C3%ADcios_Python_basico.ipynb\" target=\"_parent\"><img src=\"https://colab.research.google.com/assets/colab-badge.svg\" alt=\"Open In Colab\"/></a>"
      ]
    },
    {
      "cell_type": "markdown",
      "metadata": {
        "id": "7_I-tW24ns9a"
      },
      "source": [
        "### 01 - Teste de gravidez\n",
        "Escreva uma célula com controle de fluxos que tem como premissa a existência das seguintes variáveis:\n",
        "\n",
        "- ```sexo``` como ```str``` indicando os valores '**M**' para masculino e '**F**' para feminino  \n",
        "- ```beta_hcg``` que indica a quantidade do beta-HCG no sangue em mUI/mL.\n",
        "\n",
        "A sua tarefa é escrever um código que imprima como resultado \"indivíduo do sexo masculino\" quando sexo = 'M', caso sexo = 'F', se o valor de beta-HCG for maior que 5, retorne \"Positivo\" indicando que a paciente está grávida, e retorne \"Negativo\" caso contrário.\n",
        "\n",
        "Não mexa nos valores da variável ```sexo``` nem em ```beta_hcg```, e escreva um código que funcione para quaisquer valores possíveis de ambos: ```sexo``` = '**M**' ou '**F**' e ```beta_hcg``` assumindo valores inteiros positivos."
      ]
    },
    {
      "cell_type": "code",
      "execution_count": 1,
      "metadata": {
        "colab": {
          "base_uri": "https://localhost:8080/"
        },
        "id": "hKPA16aans9k",
        "outputId": "9de7a7c9-aa8d-45ea-e58b-d88970fa0275"
      },
      "outputs": [
        {
          "output_type": "stream",
          "name": "stdout",
          "text": [
            "indivíduo do sexo masculino\n",
            "Negativo\n"
          ]
        }
      ],
      "source": [
        "sexo = 'M'\n",
        "beta_hcg = 0\n",
        "\n",
        "# seu código vem abaixo desta linha\n",
        "\n",
        "# Verificando o sexo do indivíduo.\n",
        "if sexo == 'M':\n",
        "    print(\"indivíduo do sexo masculino\")\n",
        "else:\n",
        "    print(\"indivíduo do sexo feminino\")\n",
        "\n",
        "# Verificando o resultado do exame de beta-hcg.\n",
        "if beta_hcg > 5:\n",
        "    print(\"Positivo\")\n",
        "else:\n",
        "    print(\"Negativo\")\n"
      ]
    },
    {
      "cell_type": "markdown",
      "metadata": {
        "id": "ATaO2baGns9o"
      },
      "source": [
        "### 02 - Renomeando variáveis\n",
        "\n",
        "Vamos ver adiante que uma forma de renomear variáveis de um conjunto de dados é através de dicionários - o dicionário deve conter como chave o nome original, associando a cada chave um único valor (tipo *str*) que contenha o nome novo.\n",
        "\n",
        "A sua tarefa é escrever um dicionário que possa ser utilizado para traduzir as variáveis ```name``` (nome), ```age``` (idade) e ```income``` (renda). Ou seja, esse dicionário deve relacionar as chaves *name, age* e *income* às suas respectivas traduções."
      ]
    },
    {
      "cell_type": "code",
      "execution_count": 2,
      "metadata": {
        "colab": {
          "base_uri": "https://localhost:8080/"
        },
        "id": "x-hfgz47ns9p",
        "outputId": "f91fab57-a655-47c4-9de6-46f0498244ec"
      },
      "outputs": [
        {
          "output_type": "stream",
          "name": "stdout",
          "text": [
            "{'name': 'nome', 'age': 'idade', 'income': 'renda'}\n"
          ]
        }
      ],
      "source": [
        "dic_traducao = {\"name\": \"nome\", \"age\": \"idade\", \"income\": \"renda\"}\n",
        "print(dic_traducao)"
      ]
    },
    {
      "cell_type": "markdown",
      "metadata": {
        "id": "HoiWkN8rns9q"
      },
      "source": [
        "### 03 - É divisível?\n",
        "A sua tarefa é escrever um código que indique se um número ```N``` é divisível por um número P. Escreva um programa que faça essa verificação para quaisquer combinações de ```N``` e ```M``` e devolva uma mensagem indicativa no output."
      ]
    },
    {
      "cell_type": "code",
      "execution_count": 3,
      "metadata": {
        "colab": {
          "base_uri": "https://localhost:8080/"
        },
        "id": "CVWmhWQbns9s",
        "outputId": "a84cd1fa-ebbe-4c1b-e0ea-68626af134ec"
      },
      "outputs": [
        {
          "output_type": "stream",
          "name": "stdout",
          "text": [
            "O número 42 é divisível por 7.\n"
          ]
        }
      ],
      "source": [
        "N = 42\n",
        "M = 7\n",
        "\n",
        "#Seu código\n",
        "def divisibilidade(N, M):\n",
        "# Se o resto da divisão de N por M for zero, N é divisível por M.\n",
        "  if N % M == 0:\n",
        "    return True\n",
        "  else:\n",
        "    return False\n",
        "# Verificando a divisibilidade de N por M.\n",
        "if divisibilidade(N, M):\n",
        "  print(f\"O número {N} é divisível por {M}.\")\n",
        "else:\n",
        "  print(f\"O número {N} não é divisível por {M}.\")\n"
      ]
    },
    {
      "cell_type": "markdown",
      "metadata": {
        "id": "8_WV5iHZns9u"
      },
      "source": [
        "### 04 - Números primos\n",
        "> Um número **N** é primo se e somente se é divisível por 1, -1, por **N** e por -**N**.  \n",
        "\n",
        "Escreva um script que verifica se ```N``` é um número primo, verificando se ```N``` é divisível por todos os números de ```1``` a ```N-1```. Você vai precisar usar alguma ferramenta de *loop* que você aprendeu para isto. No final, devolva uma mensagem no output indicando se o número é primo ou não."
      ]
    },
    {
      "cell_type": "code",
      "execution_count": 4,
      "metadata": {
        "colab": {
          "base_uri": "https://localhost:8080/"
        },
        "id": "9TFatLv2ns9v",
        "outputId": "d175faf9-fcb8-4890-de06-51612f54a9f2"
      },
      "outputs": [
        {
          "output_type": "stream",
          "name": "stdout",
          "text": [
            "47 é um número primo.\n"
          ]
        }
      ],
      "source": [
        "# Importando o módulo math.\n",
        "import math\n",
        "\n",
        "# Verificando se um número é divisível por qualquer número entre 2 e sua raiz quadrada.\n",
        "def is_prime(num):\n",
        "\n",
        "  # Número primos são maiores que 1, divisíveis apenas por 1 e por ele mesmo.\n",
        "  if num <= 1:\n",
        "    return False\n",
        "\n",
        "  # Verifica a divisibilidade por números de 2 até a raiz quadrada de num.\n",
        "  for i in range(2, int(math.sqrt(num)) + 1):\n",
        "    if num % i == 0:\n",
        "      return False\n",
        "\n",
        "  return True\n",
        "\n",
        "# Número a ser testado.\n",
        "N = 47\n",
        "\n",
        "# Verificando se N é primo e imprimindo o resultado.\n",
        "if is_prime(N):\n",
        "  print(N, \"é um número primo.\")\n",
        "else:\n",
        "  print(N, \"não é um número primo.\")\n"
      ]
    },
    {
      "cell_type": "markdown",
      "metadata": {
        "id": "f3S-lxaQns9w"
      },
      "source": [
        "### 05 - Desafio\n",
        "O algorítmo do exercício anterior não é o mais eficiente. O que você pode fazer para deixá-lo mais eficiente? Ou seja, executar menos comparações, portanto consumir menos tempo.\n",
        "1. Será que precisamos correr o loop até o final sempre?\n",
        "2. Será que precisamos mesmo verificar **todos** os números?\n",
        "3. Será que precisamos ir até N-1?\n",
        "\n",
        "Essas perguntas levam ao tipo de pensamento voltado a deixar um algoritmo mais eficiente. Veja se você consegue melhorar o seu."
      ]
    },
    {
      "cell_type": "code",
      "execution_count": 5,
      "metadata": {
        "colab": {
          "base_uri": "https://localhost:8080/"
        },
        "id": "mLlSmLhzns9y",
        "outputId": "2e622aef-c6c6-4833-d389-556d2ce11b80"
      },
      "outputs": [
        {
          "output_type": "stream",
          "name": "stdout",
          "text": [
            "98 não é um número primo.\n"
          ]
        }
      ],
      "source": [
        "# Importando a bliblioteca math para poder utilizar a função sqrt() para calcular a raiz quadrada de um número.\n",
        "import math\n",
        "\n",
        "def is_prime(num):\n",
        "     # Se o número for menor ou igual a 1, ele não é primo.\n",
        "  if num <= 1:\n",
        "    return False\n",
        "     # Se o número for menor ou igual a 3, ele é primo (exceto para 1).\n",
        "  if num <= 3:\n",
        "    return True\n",
        "     # Se o número for divisível por 2 ou 3, ele não é primo.\n",
        "  if num % 2 == 0 or num % 3 == 0:\n",
        "    return False\n",
        "     # O loop verifica se o número a se testado é divisivel por i ou i + 2, se o número for divisivel ele não é primo.\n",
        "  i = 5\n",
        "  while i * i <= num:\n",
        "    if num % i == 0 or num % (i + 2) == 0:\n",
        "      return False\n",
        "     # O loop incrementa i de 6 em 6 para verificar apenas os números da forma 6k ± 1, pois todos os primos maiores que 3 podem ser expressos nessa forma.\n",
        "    i += 6\n",
        "  return True\n",
        "# Número a ser testado.\n",
        "N = 98\n",
        "# Verificando se N é primo e imprimindo o resultado.\n",
        "if is_prime(N):\n",
        "  print(N, \"é um número primo.\")\n",
        "else:\n",
        "  print(N, \"não é um número primo.\")\n"
      ]
    },
    {
      "cell_type": "markdown",
      "metadata": {
        "id": "FUVERdeGns90"
      },
      "source": [
        "### 06 - Peso ideal 1\n",
        "O IMC (índice de massa corpórea) é um indicador de saúde mais bem aceito que o peso. Ele é calculado como:\n",
        "\n",
        "$$ IMC = \\dfrac{peso}{altura^2}$$\n",
        "\n",
        "Segundo a OMS, valores *normais* são entre 18.5 e 24.9.\n",
        "\n",
        "Sua tarefa é encontrar o ponto médio dessa faixa."
      ]
    },
    {
      "cell_type": "code",
      "execution_count": 6,
      "metadata": {
        "colab": {
          "base_uri": "https://localhost:8080/"
        },
        "id": "bn-YNRSsns90",
        "outputId": "827aad2d-20b7-4475-c935-1540f811f9c8"
      },
      "outputs": [
        {
          "output_type": "stream",
          "name": "stdout",
          "text": [
            "21.7\n"
          ]
        }
      ],
      "source": [
        "# Limite inferior do IMC.\n",
        "num1 = 18.5\n",
        "# Limite superior do IMC.\n",
        "num2 = 24.9\n",
        "# Calculando o ponto médio:\n",
        "ponto_med = (num1 + num2) / 2\n",
        "# Atribui o ponto médio ao IMC ideal.\n",
        "imc_ideal = ponto_med\n",
        "# Imprimindo o valor do IMC ideal calculado\n",
        "print(imc_ideal)"
      ]
    },
    {
      "cell_type": "markdown",
      "metadata": {
        "id": "NBCBcsk0ns91"
      },
      "source": [
        "### 07 - Peso ideal 2\n",
        "Recebendo um valor de altura, encontre o peso '*ideal*' dessa pessoa, que fornece o IMC encontrado acima"
      ]
    },
    {
      "cell_type": "code",
      "execution_count": 7,
      "metadata": {
        "colab": {
          "base_uri": "https://localhost:8080/"
        },
        "id": "XL9uWvchns92",
        "outputId": "042c330b-1f67-42bd-e406-7950b08b4e8f"
      },
      "outputs": [
        {
          "output_type": "stream",
          "name": "stdout",
          "text": [
            "62.712999999999994\n"
          ]
        }
      ],
      "source": [
        "#Calcula o peso ideal a partir do IMC e da altura.\n",
        "def calculo_peso(imc, altura):\n",
        "\n",
        "  peso = imc * altura**2\n",
        "  return peso\n",
        "\n",
        "# Dados do IMC e da altura que foram fornecidos.\n",
        "imc = 21.7\n",
        "altura = 1.70\n",
        "\n",
        "# Calculando o peso \"ideal\".\n",
        "peso_ideal = calculo_peso(imc, altura)\n",
        "\n",
        "print(peso_ideal)"
      ]
    },
    {
      "cell_type": "markdown",
      "metadata": {
        "id": "zpd_vx-Vns92"
      },
      "source": [
        "### 08 - Peso ideal 3\n",
        "Dada uma lista contendo as alturas de pacientes, crie uma nova lista que contenha o peso '*ideal*' (que fornece o IMC calculado em **Peso ideal 1**) desses pacientes."
      ]
    },
    {
      "cell_type": "code",
      "execution_count": 8,
      "metadata": {
        "colab": {
          "base_uri": "https://localhost:8080/"
        },
        "id": "XH9wiqHJns93",
        "outputId": "419f1cad-2baa-461e-ffb7-fe7e4283b6d4"
      },
      "outputs": [
        {
          "output_type": "stream",
          "name": "stdout",
          "text": [
            "[82.51424999999999, 91.19425, 62.712999999999994, 59.07824999999999]\n"
          ]
        }
      ],
      "source": [
        "# seu código\n",
        "def calculo_peso_ideal(altura, imc_ideal=21.7):\n",
        "\n",
        "  peso = imc_ideal * altura**2\n",
        "  return peso\n",
        "\n",
        "# Lista de alturas dos pacientes\n",
        "lista_alturas = [1.95, 2.05, 1.70, 1.65]\n",
        "\n",
        "# Lista para armazenar os pesos ideais.\n",
        "lista_peso_ideal = []\n",
        "\n",
        "# IMC ideal que definimos anteriormente.\n",
        "imc_ideal = 21.7\n",
        "\n",
        "# Calculando o peso ideal para cada paciente e adicionando à nossa lista.\n",
        "for altura in lista_alturas:\n",
        "#Para cada altura vamos calcular o peso ideal utilizando a função \"calculo_peso_ideal\" e iremos adicionar o peso calculado a lista_peso_ideal.\n",
        "  peso = calculo_peso_ideal(altura, imc_ideal)\n",
        "  lista_peso_ideal.append(peso)\n",
        "\n",
        "# Imprimindo nossa lista com os pesos ideais.\n",
        "print(lista_peso_ideal)"
      ]
    },
    {
      "cell_type": "markdown",
      "metadata": {
        "id": "7SxzkYe8ns94"
      },
      "source": [
        "### 09 - Peso ideal 4\n",
        "Dada uma lista de tuplas - cada elemento da lista é uma tupla contendo altura e peso de um paciente - crie uma nova lista com o IMC desses pacientes."
      ]
    },
    {
      "cell_type": "code",
      "execution_count": 9,
      "metadata": {
        "colab": {
          "base_uri": "https://localhost:8080/"
        },
        "id": "JJwZMcwCns94",
        "outputId": "1b58b479-e3f9-426f-98db-ee41e3a720a7"
      },
      "outputs": [
        {
          "output_type": "stream",
          "name": "stdout",
          "text": [
            "[27.777777777777775, 27.548209366391188, 19.188070502453332]\n"
          ]
        }
      ],
      "source": [
        "# seu código\n",
        "def calculo_imc(altura, peso):\n",
        "\n",
        "  #Calculando o IMC utilizando a fórmula padrão.\n",
        "  imc = peso / (altura ** 2)\n",
        "  return imc\n",
        "\n",
        "# Lista de alturas e pesos.\n",
        "altura_peso = [(1.80, 90), (1.65, 75), (1.91, 70)]\n",
        "\n",
        "# Lista para armazenar os IMCs.\n",
        "imc = []\n",
        "\n",
        "# Calculando o IMC de cada paciente e adicionando a lista.\n",
        "for altura, peso in altura_peso:\n",
        "\n",
        "  imc_paciente = calculo_imc(altura, peso)\n",
        "  # Adicionando o IMC calculado na nossa lista.\n",
        "  imc.append(imc_paciente)\n",
        "\n",
        "print(imc)"
      ]
    },
    {
      "cell_type": "markdown",
      "metadata": {
        "id": "QdYNLnUrns95"
      },
      "source": [
        "### 10 - Peso ideal 5\n",
        "Dada uma lista de **listas** - cada elemento da lista é uma **lista** contendo altura e peso de um paciente, adicione mais um elemento à lista de cada paciente contendo o IMC do paciente. Verifique também se é 'baixo', 'normal' ou 'alto' segundo os padrões da OMS em que normal é entre 18.5 e 24.9.\n",
        "\n",
        "Reflexão: por que no problema anterior temos que criar uma nova lista, e não podemos adicionar os dados de cada indivíduo à tupla?"
      ]
    },
    {
      "cell_type": "code",
      "execution_count": 10,
      "metadata": {
        "colab": {
          "base_uri": "https://localhost:8080/"
        },
        "id": "4Rgni5cEns96",
        "outputId": "cc0f6e9e-d919-4c21-9b0f-20aa6f58a63d"
      },
      "outputs": [
        {
          "output_type": "stream",
          "name": "stdout",
          "text": [
            "[[1.8, 90, 27.777777777777775, 'alto'], [1.65, 75, 27.548209366391188, 'alto'], [1.91, 70, 19.188070502453332, 'normal']]\n"
          ]
        }
      ],
      "source": [
        "def calcular_imc(altura, peso):\n",
        "\n",
        "  imc = peso / (altura ** 2)\n",
        "  if imc < 18.5:\n",
        "    # Classifica o paciente como peso baixo.\n",
        "    classificacao = 'baixo'\n",
        "  elif imc < 25:\n",
        "    # Classifica o paciente como peso normal.\n",
        "    classificacao = 'normal'\n",
        "  else:\n",
        "    # Classifica o paciente como peso alto.\n",
        "    classificacao = 'alto'\n",
        "  return imc, classificacao\n",
        "\n",
        "# Lista com alturas e pesos.\n",
        "altura_peso = [[1.80, 90], [1.65, 75], [1.91, 70]]\n",
        "\n",
        "# Calcula o IMC e adiciona à lista original\n",
        "for paciente in altura_peso:\n",
        "  altura, peso = paciente\n",
        "  # Calculando IMC e classificação.\n",
        "  imc, classificacao = calcular_imc(altura, peso)\n",
        "  # Adicionando o IMC à lista do paciente.\n",
        "  paciente.append(imc)\n",
        "  paciente.append(classificacao)\n",
        "\n",
        "# Imprimindo a lista de pacientes com as informações completas.\n",
        "print(altura_peso)"
      ]
    },
    {
      "cell_type": "code",
      "execution_count": 10,
      "metadata": {
        "id": "058cADwSns97"
      },
      "outputs": [],
      "source": []
    }
  ],
  "metadata": {
    "kernelspec": {
      "display_name": "Python 3 (ipykernel)",
      "language": "python",
      "name": "python3"
    },
    "language_info": {
      "codemirror_mode": {
        "name": "ipython",
        "version": 3
      },
      "file_extension": ".py",
      "mimetype": "text/x-python",
      "name": "python",
      "nbconvert_exporter": "python",
      "pygments_lexer": "ipython3",
      "version": "3.12.4"
    },
    "colab": {
      "provenance": [],
      "include_colab_link": true
    }
  },
  "nbformat": 4,
  "nbformat_minor": 0
}