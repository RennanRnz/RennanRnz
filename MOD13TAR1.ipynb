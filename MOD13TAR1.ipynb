{
  "cells": [
    {
      "cell_type": "markdown",
      "metadata": {
        "id": "view-in-github",
        "colab_type": "text"
      },
      "source": [
        "<a href=\"https://colab.research.google.com/github/RennanRnz/RennanRnz/blob/main/MOD13TAR1.ipynb\" target=\"_parent\"><img src=\"https://colab.research.google.com/assets/colab-badge.svg\" alt=\"Open In Colab\"/></a>"
      ]
    },
    {
      "cell_type": "markdown",
      "metadata": {
        "id": "1Z3R_1tznsA7"
      },
      "source": [
        "# EBAC - Regressão II - regressão múltipla\n",
        "\n",
        "## Tarefa I"
      ]
    },
    {
      "cell_type": "markdown",
      "metadata": {
        "id": "GyJkHJFTnsA-"
      },
      "source": [
        "#### Previsão de renda\n",
        "\n",
        "Vamos trabalhar com a base 'previsao_de_renda.csv', que é a base do seu próximo projeto. Vamos usar os recursos que vimos até aqui nesta base.\n",
        "\n",
        "|variavel|descrição|\n",
        "|-|-|\n",
        "|data_ref                | Data de referência de coleta das variáveis |\n",
        "|index                   | Código de identificação do cliente|\n",
        "|sexo                    | Sexo do cliente|\n",
        "|posse_de_veiculo        | Indica se o cliente possui veículo|\n",
        "|posse_de_imovel         | Indica se o cliente possui imóvel|\n",
        "|qtd_filhos              | Quantidade de filhos do cliente|\n",
        "|tipo_renda              | Tipo de renda do cliente|\n",
        "|educacao                | Grau de instrução do cliente|\n",
        "|estado_civil            | Estado civil do cliente|\n",
        "|tipo_residencia         | Tipo de residência do cliente (própria, alugada etc)|\n",
        "|idade                   | Idade do cliente|\n",
        "|tempo_emprego           | Tempo no emprego atual|\n",
        "|qt_pessoas_residencia   | Quantidade de pessoas que moram na residência|\n",
        "|renda                   | Renda em reais|"
      ]
    },
    {
      "cell_type": "code",
      "execution_count": null,
      "metadata": {
        "id": "l2wPYX7-nsBD"
      },
      "outputs": [],
      "source": [
        "# Importando as bibliotecas e pacotes necessários\n",
        "\n",
        "import pandas as pd\n",
        "import seaborn as sns\n",
        "from seaborn import load_dataset\n",
        "import matplotlib.pyplot as plt\n",
        "import seaborn as sns\n",
        "import numpy as np\n",
        "import patsy\n",
        "import statsmodels.api as sm\n",
        "import statsmodels.formula.api as smf\n",
        "\n",
        "\n",
        "%matplotlib inline"
      ]
    },
    {
      "cell_type": "code",
      "execution_count": null,
      "metadata": {
        "id": "U1AWDkzNnsBG"
      },
      "outputs": [],
      "source": [
        "df = pd.read_csv('previsao_de_renda.csv')"
      ]
    },
    {
      "cell_type": "code",
      "execution_count": null,
      "metadata": {
        "id": "P_1maAgEnsBH",
        "outputId": "4d9e7b96-22af-4bd6-8d24-a9b852bf54ed"
      },
      "outputs": [
        {
          "name": "stdout",
          "output_type": "stream",
          "text": [
            "<class 'pandas.core.frame.DataFrame'>\n",
            "RangeIndex: 15000 entries, 0 to 14999\n",
            "Data columns (total 15 columns):\n",
            " #   Column                 Non-Null Count  Dtype  \n",
            "---  ------                 --------------  -----  \n",
            " 0   Unnamed: 0             15000 non-null  int64  \n",
            " 1   data_ref               15000 non-null  object \n",
            " 2   id_cliente             15000 non-null  int64  \n",
            " 3   sexo                   15000 non-null  object \n",
            " 4   posse_de_veiculo       15000 non-null  bool   \n",
            " 5   posse_de_imovel        15000 non-null  bool   \n",
            " 6   qtd_filhos             15000 non-null  int64  \n",
            " 7   tipo_renda             15000 non-null  object \n",
            " 8   educacao               15000 non-null  object \n",
            " 9   estado_civil           15000 non-null  object \n",
            " 10  tipo_residencia        15000 non-null  object \n",
            " 11  idade                  15000 non-null  int64  \n",
            " 12  tempo_emprego          12427 non-null  float64\n",
            " 13  qt_pessoas_residencia  15000 non-null  float64\n",
            " 14  renda                  15000 non-null  float64\n",
            "dtypes: bool(2), float64(3), int64(4), object(6)\n",
            "memory usage: 1.5+ MB\n"
          ]
        }
      ],
      "source": [
        "df.info()"
      ]
    },
    {
      "cell_type": "markdown",
      "metadata": {
        "id": "2wH9OERfnsBJ"
      },
      "source": [
        "1. Ajuste um modelo para prever log(renda) considerando todas as covariáveis disponíveis.\n",
        "    - Utilizando os recursos do Patsy, coloque as variáveis qualitativas como *dummies*.\n",
        "    - Mantenha sempre a categoria mais frequente como casela de referência\n",
        "    - Avalie os parâmetros e veja se parecem fazer sentido prático.  "
      ]
    },
    {
      "cell_type": "code",
      "execution_count": null,
      "metadata": {
        "id": "URk9tybOnsBK",
        "outputId": "5694d1c2-1668-4508-8cbe-55f6cd2cc537"
      },
      "outputs": [
        {
          "name": "stdout",
          "output_type": "stream",
          "text": [
            "sexo \n",
            " sexo\n",
            "F    10119\n",
            "M     4881\n",
            "Name: count, dtype: int64 \n",
            "\n",
            "posse_de_veiculo \n",
            " posse_de_veiculo\n",
            "False    9140\n",
            "True     5860\n",
            "Name: count, dtype: int64 \n",
            "\n",
            "posse_de_imovel \n",
            " posse_de_imovel\n",
            "True     10143\n",
            "False     4857\n",
            "Name: count, dtype: int64 \n",
            "\n",
            "qtd_filhos \n",
            " qtd_filhos\n",
            "0     10376\n",
            "1      3037\n",
            "2      1376\n",
            "3       185\n",
            "4        17\n",
            "7         5\n",
            "14        2\n",
            "5         2\n",
            "Name: count, dtype: int64 \n",
            "\n",
            "tipo_renda \n",
            " tipo_renda\n",
            "Assalariado         7633\n",
            "Empresário          3508\n",
            "Pensionista         2582\n",
            "Servidor público    1268\n",
            "Bolsista               9\n",
            "Name: count, dtype: int64 \n",
            "\n",
            "educacao \n",
            " educacao\n",
            "Secundário             8895\n",
            "Superior completo      5335\n",
            "Superior incompleto     579\n",
            "Primário                165\n",
            "Pós graduação            26\n",
            "Name: count, dtype: int64 \n",
            "\n",
            "estado_civil \n",
            " estado_civil\n",
            "Casado      10534\n",
            "Solteiro     1798\n",
            "União        1078\n",
            "Separado      879\n",
            "Viúvo         711\n",
            "Name: count, dtype: int64 \n",
            "\n",
            "tipo_residencia \n",
            " tipo_residencia\n",
            "Casa             13532\n",
            "Com os pais        675\n",
            "Governamental      452\n",
            "Aluguel            194\n",
            "Estúdio             83\n",
            "Comunitário         64\n",
            "Name: count, dtype: int64 \n",
            "\n",
            "idade \n",
            " idade\n",
            "40    538\n",
            "37    469\n",
            "43    458\n",
            "32    455\n",
            "33    441\n",
            "39    440\n",
            "38    438\n",
            "27    436\n",
            "60    435\n",
            "46    431\n",
            "30    429\n",
            "41    420\n",
            "28    410\n",
            "34    407\n",
            "44    403\n",
            "31    403\n",
            "42    402\n",
            "47    398\n",
            "36    384\n",
            "29    377\n",
            "50    374\n",
            "54    373\n",
            "35    372\n",
            "45    371\n",
            "51    354\n",
            "48    346\n",
            "52    339\n",
            "58    339\n",
            "53    333\n",
            "57    328\n",
            "59    308\n",
            "49    305\n",
            "56    295\n",
            "55    257\n",
            "61    253\n",
            "62    241\n",
            "63    238\n",
            "64    201\n",
            "26    177\n",
            "65    143\n",
            "25    133\n",
            "66    127\n",
            "24     99\n",
            "67     66\n",
            "23     26\n",
            "22     15\n",
            "68     13\n",
            "Name: count, dtype: int64 \n",
            "\n",
            "tempo_emprego \n",
            " tempo_emprego\n",
            "4.216438     38\n",
            "6.934247     30\n",
            "7.520548     29\n",
            "15.449315    27\n",
            "5.717808     26\n",
            "             ..\n",
            "31.202740     1\n",
            "5.279452      1\n",
            "0.652055      1\n",
            "2.827397      1\n",
            "2.726027      1\n",
            "Name: count, Length: 2589, dtype: int64 \n",
            "\n",
            "qt_pessoas_residencia \n",
            " qt_pessoas_residencia\n",
            "2.0     8181\n",
            "1.0     2752\n",
            "3.0     2551\n",
            "4.0     1311\n",
            "5.0      179\n",
            "6.0       18\n",
            "9.0        5\n",
            "15.0       2\n",
            "7.0        1\n",
            "Name: count, dtype: int64 \n",
            "\n",
            "renda \n",
            " renda\n",
            "5402.44     6\n",
            "1272.04     6\n",
            "9826.31     6\n",
            "43433.94    6\n",
            "728.96      6\n",
            "           ..\n",
            "8394.82     1\n",
            "7827.08     1\n",
            "5741.98     1\n",
            "5699.89     1\n",
            "1160.99     1\n",
            "Name: count, Length: 9786, dtype: int64 \n",
            "\n"
          ]
        }
      ],
      "source": [
        "# Analisando e escolhendo como referência a categoria mais frequente.\n",
        "\n",
        "for coluna in df.columns[3:]:\n",
        "    print(coluna, '\\n', df[coluna].value_counts(), '\\n')"
      ]
    },
    {
      "cell_type": "code",
      "execution_count": null,
      "metadata": {
        "id": "JCv1scJpnsBM",
        "outputId": "83d915a8-32cb-4906-c749-8d02317e324d"
      },
      "outputs": [
        {
          "name": "stdout",
          "output_type": "stream",
          "text": [
            "                            OLS Regression Results                            \n",
            "==============================================================================\n",
            "Dep. Variable:          np.log(renda)   R-squared:                       0.358\n",
            "Model:                            OLS   Adj. R-squared:                  0.357\n",
            "Method:                 Least Squares   F-statistic:                     203.5\n",
            "Date:                Mon, 11 Nov 2024   Prob (F-statistic):               0.00\n",
            "Time:                        16:05:52   Log-Likelihood:                -13559.\n",
            "No. Observations:               12427   AIC:                         2.719e+04\n",
            "Df Residuals:                   12392   BIC:                         2.745e+04\n",
            "Df Model:                          34                                         \n",
            "Covariance Type:            nonrobust                                         \n",
            "====================================================================================================================================================================\n",
            "                                                                                                       coef    std err          t      P>|t|      [0.025      0.975]\n",
            "--------------------------------------------------------------------------------------------------------------------------------------------------------------------\n",
            "Intercept                                                                                            7.0932      0.039    183.905      0.000       7.018       7.169\n",
            "sexo[T.M]                                                                                            0.7878      0.015     53.664      0.000       0.759       0.817\n",
            "posse_de_veiculo[T.True]                                                                             0.0436      0.014      3.079      0.002       0.016       0.071\n",
            "posse_de_imovel[T.True]                                                                              0.0828      0.014      5.907      0.000       0.055       0.110\n",
            "C(qtd_filhos, Treatment(df['qtd_filhos'].value_counts().idxmax()))[T.1]                             -0.2501      0.112     -2.239      0.025      -0.469      -0.031\n",
            "C(qtd_filhos, Treatment(df['qtd_filhos'].value_counts().idxmax()))[T.2]                             -0.5697      0.223     -2.559      0.011      -1.006      -0.133\n",
            "C(qtd_filhos, Treatment(df['qtd_filhos'].value_counts().idxmax()))[T.3]                             -0.5560      0.486     -1.144      0.253      -1.509       0.397\n",
            "C(qtd_filhos, Treatment(df['qtd_filhos'].value_counts().idxmax()))[T.4]                              0.2091      0.429      0.488      0.626      -0.631       1.049\n",
            "C(qtd_filhos, Treatment(df['qtd_filhos'].value_counts().idxmax()))[T.5]                              0.1385      0.410      0.338      0.736      -0.666       0.943\n",
            "C(qtd_filhos, Treatment(df['qtd_filhos'].value_counts().idxmax()))[T.7]                              0.0221      0.162      0.137      0.891      -0.295       0.339\n",
            "C(qtd_filhos, Treatment(df['qtd_filhos'].value_counts().idxmax()))[T.14]                            -0.4630      0.261     -1.772      0.076      -0.975       0.049\n",
            "C(tipo_renda, Treatment(df['tipo_renda'].value_counts().idxmax()))[T.Bolsista]                       0.2259      0.241      0.937      0.349      -0.247       0.699\n",
            "C(tipo_renda, Treatment(df['tipo_renda'].value_counts().idxmax()))[T.Empresário]                     0.1547      0.015     10.359      0.000       0.125       0.184\n",
            "C(tipo_renda, Treatment(df['tipo_renda'].value_counts().idxmax()))[T.Pensionista]                   -0.2891      0.243     -1.190      0.234      -0.765       0.187\n",
            "C(tipo_renda, Treatment(df['tipo_renda'].value_counts().idxmax()))[T.Servidor público]               0.0551      0.022      2.476      0.013       0.011       0.099\n",
            "C(educacao, Treatment(df['educacao'].value_counts().idxmax()))[T.Primário]                           0.0130      0.072      0.181      0.856      -0.128       0.154\n",
            "C(educacao, Treatment(df['educacao'].value_counts().idxmax()))[T.Pós graduação]                      0.1168      0.142      0.821      0.412      -0.162       0.396\n",
            "C(educacao, Treatment(df['educacao'].value_counts().idxmax()))[T.Superior completo]                  0.1069      0.014      7.678      0.000       0.080       0.134\n",
            "C(educacao, Treatment(df['educacao'].value_counts().idxmax()))[T.Superior incompleto]               -0.0290      0.032     -0.897      0.370      -0.092       0.034\n",
            "C(estado_civil, Treatment(df['estado_civil'].value_counts().idxmax()))[T.Separado]                   0.3176      0.112      2.831      0.005       0.098       0.537\n",
            "C(estado_civil, Treatment(df['estado_civil'].value_counts().idxmax()))[T.Solteiro]                   0.2556      0.110      2.319      0.020       0.040       0.472\n",
            "C(estado_civil, Treatment(df['estado_civil'].value_counts().idxmax()))[T.União]                     -0.0341      0.025     -1.352      0.176      -0.083       0.015\n",
            "C(estado_civil, Treatment(df['estado_civil'].value_counts().idxmax()))[T.Viúvo]                      0.3535      0.117      3.017      0.003       0.124       0.583\n",
            "C(tipo_residencia, Treatment(df['tipo_residencia'].value_counts().idxmax()))[T.Aluguel]              0.0424      0.054      0.784      0.433      -0.064       0.149\n",
            "C(tipo_residencia, Treatment(df['tipo_residencia'].value_counts().idxmax()))[T.Com os pais]          0.0191      0.029      0.649      0.516      -0.039       0.077\n",
            "C(tipo_residencia, Treatment(df['tipo_residencia'].value_counts().idxmax()))[T.Comunitário]         -0.0753      0.092     -0.820      0.412      -0.255       0.105\n",
            "C(tipo_residencia, Treatment(df['tipo_residencia'].value_counts().idxmax()))[T.Estúdio]              0.1076      0.084      1.281      0.200      -0.057       0.272\n",
            "C(tipo_residencia, Treatment(df['tipo_residencia'].value_counts().idxmax()))[T.Governamental]       -0.0121      0.039     -0.311      0.756      -0.089       0.064\n",
            "C(qt_pessoas_residencia, Treatment(df['qt_pessoas_residencia'].value_counts().idxmax()))[T.1.0]     -0.2710      0.110     -2.459      0.014      -0.487      -0.055\n",
            "C(qt_pessoas_residencia, Treatment(df['qt_pessoas_residencia'].value_counts().idxmax()))[T.3.0]      0.2991      0.112      2.667      0.008       0.079       0.519\n",
            "C(qt_pessoas_residencia, Treatment(df['qt_pessoas_residencia'].value_counts().idxmax()))[T.4.0]      0.6546      0.223      2.929      0.003       0.217       1.093\n",
            "C(qt_pessoas_residencia, Treatment(df['qt_pessoas_residencia'].value_counts().idxmax()))[T.5.0]      0.5139      0.489      1.050      0.294      -0.445       1.473\n",
            "C(qt_pessoas_residencia, Treatment(df['qt_pessoas_residencia'].value_counts().idxmax()))[T.6.0]      0.1607      0.410      0.392      0.695      -0.643       0.965\n",
            "C(qt_pessoas_residencia, Treatment(df['qt_pessoas_residencia'].value_counts().idxmax()))[T.7.0]      0.1868      0.658      0.284      0.776      -1.103       1.477\n",
            "C(qt_pessoas_residencia, Treatment(df['qt_pessoas_residencia'].value_counts().idxmax()))[T.9.0]      0.0221      0.162      0.137      0.891      -0.295       0.339\n",
            "C(qt_pessoas_residencia, Treatment(df['qt_pessoas_residencia'].value_counts().idxmax()))[T.15.0]    -0.4630      0.261     -1.772      0.076      -0.975       0.049\n",
            "idade                                                                                                0.0056      0.001      6.916      0.000       0.004       0.007\n",
            "tempo_emprego                                                                                        0.0616      0.001     59.241      0.000       0.060       0.064\n",
            "==============================================================================\n",
            "Omnibus:                        1.227   Durbin-Watson:                   2.024\n",
            "Prob(Omnibus):                  0.542   Jarque-Bera (JB):                1.200\n",
            "Skew:                           0.022   Prob(JB):                        0.549\n",
            "Kurtosis:                       3.018   Cond. No.                     1.03e+16\n",
            "==============================================================================\n",
            "\n",
            "Notes:\n",
            "[1] Standard Errors assume that the covariance matrix of the errors is correctly specified.\n",
            "[2] The smallest eigenvalue is 2.13e-25. This might indicate that there are\n",
            "strong multicollinearity problems or that the design matrix is singular.\n"
          ]
        }
      ],
      "source": [
        "# Ajustando o modelo de regressão.\n",
        "y, X = patsy.dmatrices(formula_like='''\n",
        "                                    np.log(renda) ~ sexo\n",
        "                                                    + posse_de_veiculo\n",
        "                                                    + posse_de_imovel\n",
        "                                                    + C(qtd_filhos, Treatment(df['qtd_filhos'].value_counts().idxmax()))\n",
        "                                                    + C(tipo_renda, Treatment(df['tipo_renda'].value_counts().idxmax()))\n",
        "                                                    + C(educacao, Treatment(df['educacao'].value_counts().idxmax()))\n",
        "                                                    + C(estado_civil, Treatment(df['estado_civil'].value_counts().idxmax()))\n",
        "                                                    + C(tipo_residencia, Treatment(df['tipo_residencia'].value_counts().idxmax()))\n",
        "                                                    + idade\n",
        "                                                    + tempo_emprego\n",
        "                                                    + C(qt_pessoas_residencia, Treatment(df['qt_pessoas_residencia'].value_counts().idxmax()))\n",
        "                                    ''',\n",
        "                       data=df)\n",
        "\n",
        "model = sm.OLS(y, X).fit()\n",
        "\n",
        "print(model.summary())"
      ]
    },
    {
      "cell_type": "markdown",
      "metadata": {
        "id": "CT7IApkdnsBN"
      },
      "source": [
        " - Realizando análise:\n",
        "\n",
        "Os parâmetros utilizados nesta análise aparentam fazer muito sentido devido há alguns indicadores como por exemplo, Posse de veículo ```(posse_de_veiculo[T.True])``` e Posse de imóvel ```(posse_de_imovel[T.True])``` serem coeficientes positivos pois sugere que pessoas que possuem esses bens tendem a ter uma renda maior, e ter uma rende maior tambem esta associado a outros indicadores como Educação ```(educacao)```, em que pessoas com um maior nível de educação tendem a ter maiores salários e rendas."
      ]
    },
    {
      "cell_type": "markdown",
      "metadata": {
        "id": "DJQTSSHLnsBP"
      },
      "source": [
        "2. Remova a variável menos significante e analise:\n",
        "    - Observe os indicadores que vimos, e avalie se o modelo melhorou ou piorou na sua opinião.\n",
        "    - Observe os parâmetros e veja se algum se alterou muito.  \n"
      ]
    },
    {
      "cell_type": "code",
      "execution_count": null,
      "metadata": {
        "id": "IkB3Al9SnsBQ",
        "outputId": "54d1032b-6e70-4a52-c5c0-fc0286bd20dd"
      },
      "outputs": [
        {
          "name": "stdout",
          "output_type": "stream",
          "text": [
            "                            OLS Regression Results                            \n",
            "==============================================================================\n",
            "Dep. Variable:          np.log(renda)   R-squared:                       0.358\n",
            "Model:                            OLS   Adj. R-squared:                  0.357\n",
            "Method:                 Least Squares   F-statistic:                     238.5\n",
            "Date:                Mon, 11 Nov 2024   Prob (F-statistic):               0.00\n",
            "Time:                        16:05:52   Log-Likelihood:                -13561.\n",
            "No. Observations:               12427   AIC:                         2.718e+04\n",
            "Df Residuals:                   12397   BIC:                         2.741e+04\n",
            "Df Model:                          29                                         \n",
            "Covariance Type:            nonrobust                                         \n",
            "====================================================================================================================================================================\n",
            "                                                                                                       coef    std err          t      P>|t|      [0.025      0.975]\n",
            "--------------------------------------------------------------------------------------------------------------------------------------------------------------------\n",
            "Intercept                                                                                            7.0973      0.038    187.689      0.000       7.023       7.171\n",
            "sexo[T.M]                                                                                            0.7896      0.015     53.937      0.000       0.761       0.818\n",
            "posse_de_veiculo[T.True]                                                                             0.0436      0.014      3.084      0.002       0.016       0.071\n",
            "posse_de_imovel[T.True]                                                                              0.0817      0.014      5.943      0.000       0.055       0.109\n",
            "C(qtd_filhos, Treatment(df['qtd_filhos'].value_counts().idxmax()))[T.1]                             -0.2492      0.112     -2.231      0.026      -0.468      -0.030\n",
            "C(qtd_filhos, Treatment(df['qtd_filhos'].value_counts().idxmax()))[T.2]                             -0.5694      0.223     -2.558      0.011      -1.006      -0.133\n",
            "C(qtd_filhos, Treatment(df['qtd_filhos'].value_counts().idxmax()))[T.3]                             -0.5605      0.486     -1.153      0.249      -1.513       0.392\n",
            "C(qtd_filhos, Treatment(df['qtd_filhos'].value_counts().idxmax()))[T.4]                              0.1888      0.428      0.441      0.659      -0.650       1.028\n",
            "C(qtd_filhos, Treatment(df['qtd_filhos'].value_counts().idxmax()))[T.5]                              0.1192      0.410      0.291      0.771      -0.684       0.922\n",
            "C(qtd_filhos, Treatment(df['qtd_filhos'].value_counts().idxmax()))[T.7]                              0.0214      0.162      0.133      0.894      -0.295       0.338\n",
            "C(qtd_filhos, Treatment(df['qtd_filhos'].value_counts().idxmax()))[T.14]                            -0.4639      0.261     -1.776      0.076      -0.976       0.048\n",
            "C(tipo_renda, Treatment(df['tipo_renda'].value_counts().idxmax()))[T.Bolsista]                       0.2271      0.241      0.942      0.346      -0.246       0.700\n",
            "C(tipo_renda, Treatment(df['tipo_renda'].value_counts().idxmax()))[T.Empresário]                     0.1551      0.015     10.401      0.000       0.126       0.184\n",
            "C(tipo_renda, Treatment(df['tipo_renda'].value_counts().idxmax()))[T.Pensionista]                   -0.2917      0.243     -1.202      0.230      -0.768       0.184\n",
            "C(tipo_renda, Treatment(df['tipo_renda'].value_counts().idxmax()))[T.Servidor público]               0.0563      0.022      2.534      0.011       0.013       0.100\n",
            "C(educacao, Treatment(df['educacao'].value_counts().idxmax()))[T.Primário]                           0.0087      0.072      0.121      0.904      -0.132       0.149\n",
            "C(educacao, Treatment(df['educacao'].value_counts().idxmax()))[T.Pós graduação]                      0.1153      0.142      0.810      0.418      -0.164       0.394\n",
            "C(educacao, Treatment(df['educacao'].value_counts().idxmax()))[T.Superior completo]                  0.1066      0.014      7.674      0.000       0.079       0.134\n",
            "C(educacao, Treatment(df['educacao'].value_counts().idxmax()))[T.Superior incompleto]               -0.0287      0.032     -0.891      0.373      -0.092       0.034\n",
            "C(estado_civil, Treatment(df['estado_civil'].value_counts().idxmax()))[T.Separado]                   0.3182      0.112      2.837      0.005       0.098       0.538\n",
            "C(estado_civil, Treatment(df['estado_civil'].value_counts().idxmax()))[T.Solteiro]                   0.2567      0.110      2.330      0.020       0.041       0.473\n",
            "C(estado_civil, Treatment(df['estado_civil'].value_counts().idxmax()))[T.União]                     -0.0328      0.025     -1.303      0.193      -0.082       0.017\n",
            "C(estado_civil, Treatment(df['estado_civil'].value_counts().idxmax()))[T.Viúvo]                      0.3524      0.117      3.008      0.003       0.123       0.582\n",
            "C(qt_pessoas_residencia, Treatment(df['qt_pessoas_residencia'].value_counts().idxmax()))[T.1.0]     -0.2706      0.110     -2.456      0.014      -0.487      -0.055\n",
            "C(qt_pessoas_residencia, Treatment(df['qt_pessoas_residencia'].value_counts().idxmax()))[T.3.0]      0.2990      0.112      2.666      0.008       0.079       0.519\n",
            "C(qt_pessoas_residencia, Treatment(df['qt_pessoas_residencia'].value_counts().idxmax()))[T.4.0]      0.6544      0.223      2.929      0.003       0.216       1.092\n",
            "C(qt_pessoas_residencia, Treatment(df['qt_pessoas_residencia'].value_counts().idxmax()))[T.5.0]      0.5173      0.489      1.057      0.290      -0.442       1.476\n",
            "C(qt_pessoas_residencia, Treatment(df['qt_pessoas_residencia'].value_counts().idxmax()))[T.6.0]      0.1796      0.410      0.439      0.661      -0.623       0.982\n",
            "C(qt_pessoas_residencia, Treatment(df['qt_pessoas_residencia'].value_counts().idxmax()))[T.7.0]      0.1283      0.654      0.196      0.845      -1.154       1.411\n",
            "C(qt_pessoas_residencia, Treatment(df['qt_pessoas_residencia'].value_counts().idxmax()))[T.9.0]      0.0214      0.162      0.133      0.894      -0.295       0.338\n",
            "C(qt_pessoas_residencia, Treatment(df['qt_pessoas_residencia'].value_counts().idxmax()))[T.15.0]    -0.4639      0.261     -1.776      0.076      -0.976       0.048\n",
            "idade                                                                                                0.0055      0.001      6.880      0.000       0.004       0.007\n",
            "tempo_emprego                                                                                        0.0616      0.001     59.329      0.000       0.060       0.064\n",
            "==============================================================================\n",
            "Omnibus:                        1.176   Durbin-Watson:                   2.024\n",
            "Prob(Omnibus):                  0.555   Jarque-Bera (JB):                1.153\n",
            "Skew:                           0.022   Prob(JB):                        0.562\n",
            "Kurtosis:                       3.016   Cond. No.                     1.03e+16\n",
            "==============================================================================\n",
            "\n",
            "Notes:\n",
            "[1] Standard Errors assume that the covariance matrix of the errors is correctly specified.\n",
            "[2] The smallest eigenvalue is 2.13e-25. This might indicate that there are\n",
            "strong multicollinearity problems or that the design matrix is singular.\n"
          ]
        }
      ],
      "source": [
        "# Modelo ajustado sem a variável 'tipo_residencia'.\n",
        "model = smf.ols(formula='''\n",
        "                np.log(renda) ~ sexo\n",
        "                                + posse_de_veiculo\n",
        "                                + posse_de_imovel\n",
        "                                + C(qtd_filhos, Treatment(df['qtd_filhos'].value_counts().idxmax()))\n",
        "                                + C(tipo_renda, Treatment(df['tipo_renda'].value_counts().idxmax()))\n",
        "                                + C(educacao, Treatment(df['educacao'].value_counts().idxmax()))\n",
        "                                + C(estado_civil, Treatment(df['estado_civil'].value_counts().idxmax()))\n",
        "                                + idade\n",
        "                                + tempo_emprego\n",
        "                                + C(qt_pessoas_residencia, Treatment(df['qt_pessoas_residencia'].value_counts().idxmax()))\n",
        "                ''',\n",
        "        data=df).fit()\n",
        "\n",
        "print(model.summary())"
      ]
    },
    {
      "cell_type": "markdown",
      "metadata": {
        "id": "jrAwVm8PnsBR"
      },
      "source": [
        " - Realizando análise:\n",
        "\n",
        "Os resultados obtidos após a retirada da variável ```tipo_residencia``` não sofreram alterações significantes em nossa analise, o R² e o R² ajustado permaneceram os mesmos praticamente e demais parâmetros aparentam estar estáveis."
      ]
    },
    {
      "cell_type": "markdown",
      "metadata": {
        "id": "geXacVransBR"
      },
      "source": [
        "3. Siga removendo as variáveis menos significantes, sempre que o *p-value* for menor que 5%. Compare o modelo final com o inicial. Observe os indicadores e conclua se o modelo parece melhor.\n",
        "    "
      ]
    },
    {
      "cell_type": "code",
      "execution_count": null,
      "metadata": {
        "id": "IAJ3-RavnsBS"
      },
      "outputs": [],
      "source": [
        "formula = '''\n",
        "                np.log(renda) ~ sexo\n",
        "                                + posse_de_veiculo\n",
        "                                + posse_de_imovel\n",
        "                                + C(qtd_filhos, Treatment(df['qtd_filhos'].value_counts().idxmax()))\n",
        "                                + C(tipo_renda, Treatment(df['tipo_renda'].value_counts().idxmax()))\n",
        "                                + C(educacao, Treatment(df['educacao'].value_counts().idxmax()))\n",
        "                                + C(estado_civil, Treatment(df['estado_civil'].value_counts().idxmax()))\n",
        "                                + idade\n",
        "                                + tempo_emprego\n",
        "                                + C(qt_pessoas_residencia, Treatment(df['qt_pessoas_residencia'].value_counts().idxmax()))\n",
        "                '''\n",
        "\n",
        "# Ajustande no modelo inicial.\n",
        "model = smf.ols(formula=formula, data=df).fit()"
      ]
    },
    {
      "cell_type": "code",
      "execution_count": null,
      "metadata": {
        "id": "zGTk4VwEnsBS",
        "outputId": "68962a60-fb68-49a7-e7bd-a65838132a3a"
      },
      "outputs": [
        {
          "name": "stdout",
          "output_type": "stream",
          "text": [
            "                            OLS Regression Results                            \n",
            "==============================================================================\n",
            "Dep. Variable:          np.log(renda)   R-squared:                       0.358\n",
            "Model:                            OLS   Adj. R-squared:                  0.357\n",
            "Method:                 Least Squares   F-statistic:                     238.5\n",
            "Date:                Mon, 11 Nov 2024   Prob (F-statistic):               0.00\n",
            "Time:                        16:05:53   Log-Likelihood:                -13561.\n",
            "No. Observations:               12427   AIC:                         2.718e+04\n",
            "Df Residuals:                   12397   BIC:                         2.741e+04\n",
            "Df Model:                          29                                         \n",
            "Covariance Type:            nonrobust                                         \n",
            "====================================================================================================================================================================\n",
            "                                                                                                       coef    std err          t      P>|t|      [0.025      0.975]\n",
            "--------------------------------------------------------------------------------------------------------------------------------------------------------------------\n",
            "Intercept                                                                                            7.0973      0.038    187.689      0.000       7.023       7.171\n",
            "sexo[T.M]                                                                                            0.7896      0.015     53.937      0.000       0.761       0.818\n",
            "posse_de_veiculo[T.True]                                                                             0.0436      0.014      3.084      0.002       0.016       0.071\n",
            "posse_de_imovel[T.True]                                                                              0.0817      0.014      5.943      0.000       0.055       0.109\n",
            "C(qtd_filhos, Treatment(df['qtd_filhos'].value_counts().idxmax()))[T.1]                             -0.2492      0.112     -2.231      0.026      -0.468      -0.030\n",
            "C(qtd_filhos, Treatment(df['qtd_filhos'].value_counts().idxmax()))[T.2]                             -0.5694      0.223     -2.558      0.011      -1.006      -0.133\n",
            "C(qtd_filhos, Treatment(df['qtd_filhos'].value_counts().idxmax()))[T.3]                             -0.5605      0.486     -1.153      0.249      -1.513       0.392\n",
            "C(qtd_filhos, Treatment(df['qtd_filhos'].value_counts().idxmax()))[T.4]                              0.1888      0.428      0.441      0.659      -0.650       1.028\n",
            "C(qtd_filhos, Treatment(df['qtd_filhos'].value_counts().idxmax()))[T.5]                              0.1192      0.410      0.291      0.771      -0.684       0.922\n",
            "C(qtd_filhos, Treatment(df['qtd_filhos'].value_counts().idxmax()))[T.7]                              0.0214      0.162      0.133      0.894      -0.295       0.338\n",
            "C(qtd_filhos, Treatment(df['qtd_filhos'].value_counts().idxmax()))[T.14]                            -0.4639      0.261     -1.776      0.076      -0.976       0.048\n",
            "C(tipo_renda, Treatment(df['tipo_renda'].value_counts().idxmax()))[T.Bolsista]                       0.2271      0.241      0.942      0.346      -0.246       0.700\n",
            "C(tipo_renda, Treatment(df['tipo_renda'].value_counts().idxmax()))[T.Empresário]                     0.1551      0.015     10.401      0.000       0.126       0.184\n",
            "C(tipo_renda, Treatment(df['tipo_renda'].value_counts().idxmax()))[T.Pensionista]                   -0.2917      0.243     -1.202      0.230      -0.768       0.184\n",
            "C(tipo_renda, Treatment(df['tipo_renda'].value_counts().idxmax()))[T.Servidor público]               0.0563      0.022      2.534      0.011       0.013       0.100\n",
            "C(educacao, Treatment(df['educacao'].value_counts().idxmax()))[T.Primário]                           0.0087      0.072      0.121      0.904      -0.132       0.149\n",
            "C(educacao, Treatment(df['educacao'].value_counts().idxmax()))[T.Pós graduação]                      0.1153      0.142      0.810      0.418      -0.164       0.394\n",
            "C(educacao, Treatment(df['educacao'].value_counts().idxmax()))[T.Superior completo]                  0.1066      0.014      7.674      0.000       0.079       0.134\n",
            "C(educacao, Treatment(df['educacao'].value_counts().idxmax()))[T.Superior incompleto]               -0.0287      0.032     -0.891      0.373      -0.092       0.034\n",
            "C(estado_civil, Treatment(df['estado_civil'].value_counts().idxmax()))[T.Separado]                   0.3182      0.112      2.837      0.005       0.098       0.538\n",
            "C(estado_civil, Treatment(df['estado_civil'].value_counts().idxmax()))[T.Solteiro]                   0.2567      0.110      2.330      0.020       0.041       0.473\n",
            "C(estado_civil, Treatment(df['estado_civil'].value_counts().idxmax()))[T.União]                     -0.0328      0.025     -1.303      0.193      -0.082       0.017\n",
            "C(estado_civil, Treatment(df['estado_civil'].value_counts().idxmax()))[T.Viúvo]                      0.3524      0.117      3.008      0.003       0.123       0.582\n",
            "C(qt_pessoas_residencia, Treatment(df['qt_pessoas_residencia'].value_counts().idxmax()))[T.1.0]     -0.2706      0.110     -2.456      0.014      -0.487      -0.055\n",
            "C(qt_pessoas_residencia, Treatment(df['qt_pessoas_residencia'].value_counts().idxmax()))[T.3.0]      0.2990      0.112      2.666      0.008       0.079       0.519\n",
            "C(qt_pessoas_residencia, Treatment(df['qt_pessoas_residencia'].value_counts().idxmax()))[T.4.0]      0.6544      0.223      2.929      0.003       0.216       1.092\n",
            "C(qt_pessoas_residencia, Treatment(df['qt_pessoas_residencia'].value_counts().idxmax()))[T.5.0]      0.5173      0.489      1.057      0.290      -0.442       1.476\n",
            "C(qt_pessoas_residencia, Treatment(df['qt_pessoas_residencia'].value_counts().idxmax()))[T.6.0]      0.1796      0.410      0.439      0.661      -0.623       0.982\n",
            "C(qt_pessoas_residencia, Treatment(df['qt_pessoas_residencia'].value_counts().idxmax()))[T.7.0]      0.1283      0.654      0.196      0.845      -1.154       1.411\n",
            "C(qt_pessoas_residencia, Treatment(df['qt_pessoas_residencia'].value_counts().idxmax()))[T.9.0]      0.0214      0.162      0.133      0.894      -0.295       0.338\n",
            "C(qt_pessoas_residencia, Treatment(df['qt_pessoas_residencia'].value_counts().idxmax()))[T.15.0]    -0.4639      0.261     -1.776      0.076      -0.976       0.048\n",
            "idade                                                                                                0.0055      0.001      6.880      0.000       0.004       0.007\n",
            "tempo_emprego                                                                                        0.0616      0.001     59.329      0.000       0.060       0.064\n",
            "==============================================================================\n",
            "Omnibus:                        1.176   Durbin-Watson:                   2.024\n",
            "Prob(Omnibus):                  0.555   Jarque-Bera (JB):                1.153\n",
            "Skew:                           0.022   Prob(JB):                        0.562\n",
            "Kurtosis:                       3.016   Cond. No.                     1.03e+16\n",
            "==============================================================================\n",
            "\n",
            "Notes:\n",
            "[1] Standard Errors assume that the covariance matrix of the errors is correctly specified.\n",
            "[2] The smallest eigenvalue is 2.13e-25. This might indicate that there are\n",
            "strong multicollinearity problems or that the design matrix is singular.\n"
          ]
        }
      ],
      "source": [
        "# Obtendo os p-values.\n",
        "pvalues = model.pvalues\n",
        "\n",
        "# Encontrando as variáveis com p-values acima de 0,05.\n",
        "insignificant_vars = pvalues[pvalues > 0.05].index\n",
        "\n",
        "# Removendo as variáveis insignificantes.\n",
        "for var in insignificant_vars:\n",
        "    formula = formula.replace(' + ' + var, '')\n",
        "\n",
        "# Ajustando o modelo final\n",
        "model = smf.ols(formula=formula, data=df).fit()\n",
        "\n",
        "print(model.summary())"
      ]
    },
    {
      "cell_type": "markdown",
      "metadata": {
        "id": "7ik-SdfensBT"
      },
      "source": [
        " - Realizando análise:\n",
        "\n",
        "Em resumo a remoção das variáveis menos significativas não gerou alterações significativas no modelo, porem quanto mais simples o modelo conseguir ser e gerar os mesmos resultados que um modelo complexo melhor podemos considerar este modelo."
      ]
    },
    {
      "cell_type": "markdown",
      "metadata": {
        "id": "vDHOuretnsBU"
      },
      "source": [
        "---------------------------"
      ]
    }
  ],
  "metadata": {
    "kernelspec": {
      "display_name": "Python 3 (ipykernel)",
      "language": "python",
      "name": "python3"
    },
    "language_info": {
      "codemirror_mode": {
        "name": "ipython",
        "version": 3
      },
      "file_extension": ".py",
      "mimetype": "text/x-python",
      "name": "python",
      "nbconvert_exporter": "python",
      "pygments_lexer": "ipython3",
      "version": "3.12.7"
    },
    "colab": {
      "provenance": [],
      "include_colab_link": true
    }
  },
  "nbformat": 4,
  "nbformat_minor": 0
}