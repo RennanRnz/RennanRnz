{
  "cells": [
    {
      "cell_type": "markdown",
      "metadata": {
        "id": "view-in-github",
        "colab_type": "text"
      },
      "source": [
        "<a href=\"https://colab.research.google.com/github/RennanRnz/RennanRnz/blob/main/MOD14TAR2.ipynb\" target=\"_parent\"><img src=\"https://colab.research.google.com/assets/colab-badge.svg\" alt=\"Open In Colab\"/></a>"
      ]
    },
    {
      "cell_type": "markdown",
      "id": "e6001a19-3cca-4681-81d6-7ce669b42d30",
      "metadata": {
        "id": "e6001a19-3cca-4681-81d6-7ce669b42d30"
      },
      "source": [
        "## Tarefa\n",
        "• Crie um script que receba uma lista de abreviaturas de meses (MAR, ABR, MAI,\n",
        "JUN, etc) como argumento e gera as pastas e gráficos necessários para os meses\n",
        "de referência.\n",
        "\n",
        "Exemplo:\n",
        "python “gerar analise.py” MAR ABR MAI JUN JUL.\n",
        "\n",
        "Deve gerar o seguinte resultado de diretórios e gráficos:\n",
        "2019-03,\n",
        "2019-04,\n",
        "2019-05,\n",
        "2019-06,\n",
        "2019-07.\n"
      ]
    },
    {
      "cell_type": "code",
      "execution_count": null,
      "id": "c696fa5f-219e-49d7-8ea0-1454c3e5ce55",
      "metadata": {
        "id": "c696fa5f-219e-49d7-8ea0-1454c3e5ce55"
      },
      "outputs": [],
      "source": [
        "import pandas as pd\n",
        "import matplotlib.pyplot as plt\n",
        "import seaborn as sns\n",
        "import os\n",
        "import sys"
      ]
    },
    {
      "cell_type": "code",
      "execution_count": null,
      "id": "6716bba0-ffdc-4a43-a66d-4fbbfdf476c8",
      "metadata": {
        "id": "6716bba0-ffdc-4a43-a66d-4fbbfdf476c8"
      },
      "outputs": [],
      "source": [
        "sns.set_theme()\n",
        "\n",
        "def plot_pivot_table(df: pd.DataFrame, value: str,  index: str,  func: str, ylabel: str, xlabel: str,  opcao: str='nenhuma') -> None:\n",
        "    # Função para criar e plotar uma tabela dinâmica\n",
        "    if opcao == 'nenhuma':\n",
        "        pivot = pd.pivot_table(data=df, values=value, index=index, aggfunc=func)\n",
        "    elif opcao == 'sort':\n",
        "        pivot = pd.pivot_table(data=df, values=value, index=index, aggfunc=func).sort_values(value)\n",
        "    elif opcao == 'unstack':\n",
        "        pivot = pd.pivot_table(data=df, values=value, index=index, aggfunc=func).unstack()\n",
        "\n",
        "    pivot.plot(figsize=[15, 5])\n",
        "    plt.ylabel(ylabel, color='red')\n",
        "    plt.xlabel(xlabel, color='red')\n",
        "    plt.title(value + ' por ' + xlabel, color='navy')\n",
        "    return None\n"
      ]
    },
    {
      "cell_type": "code",
      "execution_count": null,
      "id": "4b2890e4-dada-43f5-b07c-9809a0f3c948",
      "metadata": {
        "id": "4b2890e4-dada-43f5-b07c-9809a0f3c948"
      },
      "outputs": [],
      "source": [
        "def main(meses_input):\n",
        "    for mes in meses_input:\n",
        "        # Carregando o arquivo csv do mês especificado\n",
        "        sinasc = pd.read_csv(f'https://raw.githubusercontent.com/rhatiro/Curso_EBAC-Profissao_Cientista_de_Dados/main/Mo%CC%81dulo%2014%20-%20Scripting/database/input/SINASC_RO_2019_{mes}.csv')\n",
        "\n",
        "        max_data = sinasc.DTNASC.max()[:7]\n",
        "        os.makedirs('./output/figs/'+max_data, exist_ok=True)\n",
        "\n",
        "        # Plotando gráficos para cada métrica e salvando como arquivos .png\n",
        "        plot_pivot_table(df=sinasc, value='IDADEMAE', index='DTNASC', func='count', ylabel='Quantidade de nascimentos', xlabel='Data de nascimento')\n",
        "        plt.savefig('./output/figs/'+max_data+'/Quantidade de nascimentos.png')\n",
        "        plt.close()\n",
        "\n",
        "        plot_pivot_table(df=sinasc, value='IDADEMAE', index=['DTNASC', 'SEXO'], func='mean', ylabel='Média da idade das mães', xlabel='Data de nascimento', opcao='unstack')\n",
        "        plt.savefig('./output/figs/'+max_data+'/Média da idade das mães por sexo.png')\n",
        "        plt.close()\n",
        "\n",
        "        plot_pivot_table(df=sinasc, value='PESO', index=['DTNASC', 'SEXO'], func='mean', ylabel='Média do peso dos bebês', xlabel='Data de nascimento', opcao='unstack')\n",
        "        plt.savefig('./output/figs/'+max_data+'/Média do peso dos bebês por sexo.png')\n",
        "        plt.close()\n",
        "\n",
        "        plot_pivot_table(df=sinasc, value='APGAR1', index='ESCMAE', func='median', ylabel='Mediana do APGAR1', xlabel='Escolaridade', opcao='sort')\n",
        "        plt.savefig('./output/figs/'+max_data+'/Mediana do APGAR1 por escolaridade das mães.png')\n",
        "        plt.close()\n",
        "\n",
        "        plot_pivot_table(df=sinasc, value='APGAR1', index='GESTACAO', func='mean', ylabel='Média do APGAR1', xlabel='Gestação', opcao='sort')\n",
        "        plt.savefig('./output/figs/'+max_data+'/Média do APGAR1 por gestação.png')\n",
        "        plt.close()\n",
        "\n",
        "        plot_pivot_table(df=sinasc, value='APGAR5', index='GESTACAO', func='mean', ylabel='Média do APGAR5', xlabel='Gestação', opcao='sort')\n",
        "        plt.savefig('./output/figs/'+max_data+'/Média do APGAR5 por gestação.png')\n",
        "        plt.close()\n",
        "\n",
        "        print('Data inicial:', sinasc.DTNASC.min())\n",
        "        print('Data final:', sinasc.DTNASC.max())\n",
        "        print('Nome da pasta:', max_data, '\\n')\n",
        "\n",
        "if __name__ == \"__main__\":\n",
        "    main(sys.argv[1:])\n"
      ]
    },
    {
      "cell_type": "markdown",
      "id": "1f14c176-f7e2-44bd-bfa1-8da76a585258",
      "metadata": {
        "id": "1f14c176-f7e2-44bd-bfa1-8da76a585258"
      },
      "source": [
        "-------------------"
      ]
    }
  ],
  "metadata": {
    "kernelspec": {
      "display_name": "Python 3 (ipykernel)",
      "language": "python",
      "name": "python3"
    },
    "language_info": {
      "codemirror_mode": {
        "name": "ipython",
        "version": 3
      },
      "file_extension": ".py",
      "mimetype": "text/x-python",
      "name": "python",
      "nbconvert_exporter": "python",
      "pygments_lexer": "ipython3",
      "version": "3.12.7"
    },
    "colab": {
      "provenance": [],
      "include_colab_link": true
    }
  },
  "nbformat": 4,
  "nbformat_minor": 5
}