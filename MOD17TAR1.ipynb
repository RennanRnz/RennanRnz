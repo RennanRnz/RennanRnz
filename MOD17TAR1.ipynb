{
  "cells": [
    {
      "cell_type": "markdown",
      "metadata": {
        "id": "view-in-github",
        "colab_type": "text"
      },
      "source": [
        "<a href=\"https://colab.research.google.com/github/RennanRnz/RennanRnz/blob/main/MOD17TAR1.ipynb\" target=\"_parent\"><img src=\"https://colab.research.google.com/assets/colab-badge.svg\" alt=\"Open In Colab\"/></a>"
      ]
    },
    {
      "cell_type": "markdown",
      "metadata": {
        "tags": [],
        "id": "-nhRzlzRUsPr"
      },
      "source": [
        "# Árvores II - Tarefa I"
      ]
    },
    {
      "cell_type": "markdown",
      "metadata": {
        "id": "KDv8ubbKUsPw"
      },
      "source": [
        "![image.png](attachment:f65bd82d-aa56-4cf2-8030-bb758771f332.png)  \n",
        "[fonte](https://momentum.org/programs-services/manage-your-money/savings-app/pxfuel-creative-commons-zero-cc0-iphone-smartphone-cell-phone-mobile-technology-texting/)\n",
        "\n",
        "Neste exercício vamos trabalhar com a base de dados de identificação de atividade humana com smartphones. Smartphones possuem acelerômetro e giroscópio, que registram dados de aceleração e giro nos eixos X, Y e Z, com frequencia de 50 Hz (ou seja, 50 registros por segundo). Os dados foram agrupados a medidas de 0.3 Hz, calculando-se variáveis derivadas como aceleração mínima, máxima, média etc por eixo no período agrupado de tempo, resultando em 561 variáveis que podem ser lidas nas bases disponíveis.\n",
        "\n",
        "A base é oriunda de um experimento, em que os indivíduos realizavam uma de seis atividades corriqueiras:\n",
        "- andando\n",
        "- subindo escada\n",
        "- descendo escada\n",
        "- parado\n",
        "- sentado\n",
        "- deitado\n",
        "\n",
        "O objetivo é classificar a atividade humana com base nos dados do acelerômetro e giroscópio do celular."
      ]
    },
    {
      "cell_type": "markdown",
      "metadata": {
        "id": "_PJti5t-UsP0"
      },
      "source": [
        "### 1. Carregar a base\n",
        "\n",
        "Sua primeira atividade é carregar a base.\n",
        "\n",
        "Ela está disponível neste link:\n",
        "https://archive.ics.uci.edu/ml/datasets/human+activity+recognition+using+smartphones\n",
        "\n",
        "dados https://archive.ics.uci.edu/ml/machine-learning-databases/00240/  \n",
        "dataset.names https://archive.ics.uci.edu/ml/machine-learning-databases/00240/UCI%20HAR%20Dataset.names  \n",
        "UCI HAR Dataset.zip https://archive.ics.uci.edu/ml/machine-learning-databases/00240/UCI%20HAR%20Dataset.zip\n",
        "\n",
        "Você vai encontrar os seguintes arquivos:\n",
        "\n",
        "- **features.txt:** contém a lista com os nomes das variáveis\n",
        "- **features_info.txt:** contém a descrição das variáveis\n",
        "- **README.txt:** contém uma descrição do estudo e das bases\n",
        "- **activity_labels:** contém o código da atividade (inteiro entre 1 e 6) e a descrição\n",
        "- **subject_train.txt:** uma lista indicando que registro pertence a que indivíduo na base de treino\n",
        "- **X_train.txt:** as *features* (ou variáveis explicativas) da base de testes. Cada linha representa um registro das informações de um indivíduo em um intervalo de tempo de aproximadamente 1/0.3 segundo. As medidas estão em ordem temporal dentro do estudo, e o indivíduo que originou a medida está identificado na base subject_train.txt.\n",
        "- **y_train.txt:** Possui o mesmo número de linhas que X_test. Contém um número de 1 a 6 indicando a atividade que estava sendo realizada por aquele registro na base de treino.\n",
        "- **subject_test.txt:** uma lista indicando que registro pertence a que indivíduo na base de teste\n",
        "- **X_test.txt:** as *features* (ou variáveis explicativas) da base de testes. Cada linha representa um registro das informações de um indivíduo em um intervalo de tempo de aproximadamente 1/0.3 segundo. As medidas estão em ordem temporal dentro do estudo, e o indivíduo que originou a medida está identificado na base subject_test.txt.\n",
        "- **y_test.txt:** Possui o mesmo número de linhas que X_train. Contém um número de 1 a 6 indicando a atividade que estava sendo realizada por aquele registro na base de teste.\n",
        "\n",
        "Carregue as bases:\n",
        "\n",
        "1. Faça o download dos arquivos.\n",
        "2. Carregue a base ```features.txt``` em uma *Series* (por exemplo usando o comando ```pd.read_csv()```.\n",
        "3. Carregue a base subject_train.txt em uma *Series*\n",
        "4. Carregue a base X_train.txt\n",
        "    1. Faça com que as colunas deste *dataframe* tenham os nomes indicados em ```features.txt```\n",
        "    2. Sem alterar a ordem dos *dataframes*, coloque o indicador do indivíduo lido em ```subject_train.txt``` como uma variável a mais neste *dataframe***\n",
        "    3. Faça com que este *dataframe* tenha um índice duplo, composto pela ordem dos dados e pelo identificador do indivíduo\n",
        "5. Com a mesma lógica, carregue a base X_test\n",
        "    1. Certifique-se de que tenha os nomes lidos em ```features.txt```\n",
        "    2. Coloque o identificador do sujeito lido em ```subject_test.txt```\n",
        "    3. Defina um índice duplo composto pela ordem do registro e o identificador do registro\n",
        "6. Salve as bases em arquivos CSV para facilitar a leitura deles na terefa 2 deste módulo\n",
        "7. Considere que esta base é maior que a da aula, tanto em linhas quanto em colunas. Selecione apenas as três primeiras colunas da base ('tBodyAcc-mean()-X', 'tBodyAcc-mean()-Y' e 'tBodyAcc-mean()-Z'), para efeitos desse exercício.\n",
        "\n",
        "**OBS:** As bases já estão divididas em treino e teste, de modo que não vamos precisar da função ```train_test_split```."
      ]
    },
    {
      "cell_type": "code",
      "execution_count": null,
      "metadata": {
        "id": "Z_VKZEqMUsP4",
        "outputId": "93755898-9aa3-4b00-b372-12f78a05afdc"
      },
      "outputs": [
        {
          "name": "stdout",
          "output_type": "stream",
          "text": [
            "CPU times: total: 1.33 s\n",
            "Wall time: 1.89 s\n"
          ]
        }
      ],
      "source": [
        "%%time\n",
        "\n",
        "import numpy as np\n",
        "import pandas as pd\n",
        "import matplotlib.pyplot as plt\n",
        "\n",
        "import os\n",
        "\n",
        "from sklearn.tree import DecisionTreeClassifier\n",
        "# from sklearn.metrics import plot_confusion_matrix\n",
        "from sklearn.metrics import ConfusionMatrixDisplay\n",
        "\n",
        "%matplotlib inline"
      ]
    },
    {
      "cell_type": "code",
      "execution_count": null,
      "metadata": {
        "id": "-NPIx1DmUsP9"
      },
      "outputs": [],
      "source": [
        "features = 'features.txt'\n",
        "subject_train = 'subject_train.txt'\n",
        "X_train = 'X_train.txt'\n",
        "subject_test = 'subject_test.txt'\n",
        "X_test = 'X_test.txt'\n",
        "y_train = 'y_train.txt'\n",
        "y_test = 'y_test.txt'"
      ]
    },
    {
      "cell_type": "code",
      "execution_count": null,
      "metadata": {
        "id": "lYv-C30YUsP_",
        "outputId": "bcab9507-313b-439a-be1d-014d3ccaeae4"
      },
      "outputs": [
        {
          "name": "stdout",
          "output_type": "stream",
          "text": [
            "CPU times: total: 15.6 ms\n",
            "Wall time: 16.6 ms\n"
          ]
        }
      ],
      "source": [
        "%%time\n",
        "\n",
        "features = (pd.read_csv(filepath_or_buffer=features,\n",
        "                        sep='?',\n",
        "                        header=None)\n",
        "              .squeeze('columns'))"
      ]
    },
    {
      "cell_type": "code",
      "execution_count": null,
      "metadata": {
        "id": "anLx2CJZUsQB",
        "outputId": "384262a9-b124-4bc6-e5d2-ee424dba2a40"
      },
      "outputs": [
        {
          "data": {
            "text/plain": [
              "0                           1 tBodyAcc-mean()-X\n",
              "1                           2 tBodyAcc-mean()-Y\n",
              "2                           3 tBodyAcc-mean()-Z\n",
              "3                            4 tBodyAcc-std()-X\n",
              "4                            5 tBodyAcc-std()-Y\n",
              "                         ...                   \n",
              "556        557 angle(tBodyGyroMean,gravityMean)\n",
              "557    558 angle(tBodyGyroJerkMean,gravityMean)\n",
              "558                    559 angle(X,gravityMean)\n",
              "559                    560 angle(Y,gravityMean)\n",
              "560                    561 angle(Z,gravityMean)\n",
              "Name: 0, Length: 561, dtype: object"
            ]
          },
          "execution_count": 7,
          "metadata": {},
          "output_type": "execute_result"
        }
      ],
      "source": [
        "features"
      ]
    },
    {
      "cell_type": "code",
      "execution_count": null,
      "metadata": {
        "id": "l5Qp0oTmUsQD",
        "outputId": "aa2c59cd-5658-41d7-8805-69829da77992"
      },
      "outputs": [
        {
          "name": "stdout",
          "output_type": "stream",
          "text": [
            "CPU times: total: 0 ns\n",
            "Wall time: 5.53 ms\n"
          ]
        }
      ],
      "source": [
        "%%time\n",
        "\n",
        "subject_train = (pd.read_csv(filepath_or_buffer=subject_train,\n",
        "                             header=None)\n",
        "                   .squeeze('columns'))"
      ]
    },
    {
      "cell_type": "code",
      "execution_count": null,
      "metadata": {
        "id": "reLvwhEEUsQF",
        "outputId": "33e510af-0467-45b2-8fb2-b196306dc949"
      },
      "outputs": [
        {
          "data": {
            "text/plain": [
              "0        1\n",
              "1        1\n",
              "2        1\n",
              "3        1\n",
              "4        1\n",
              "        ..\n",
              "7347    30\n",
              "7348    30\n",
              "7349    30\n",
              "7350    30\n",
              "7351    30\n",
              "Name: 0, Length: 7352, dtype: int64"
            ]
          },
          "execution_count": 9,
          "metadata": {},
          "output_type": "execute_result"
        }
      ],
      "source": [
        "subject_train"
      ]
    },
    {
      "cell_type": "code",
      "execution_count": null,
      "metadata": {
        "id": "2mcvmUU_UsQH",
        "outputId": "78aef2f7-a0b7-4da1-ee47-f690587daef7"
      },
      "outputs": [
        {
          "name": "stderr",
          "output_type": "stream",
          "text": [
            "<timed exec>:1: FutureWarning: The 'delim_whitespace' keyword in pd.read_csv is deprecated and will be removed in a future version. Use ``sep='\\s+'`` instead\n"
          ]
        },
        {
          "name": "stdout",
          "output_type": "stream",
          "text": [
            "CPU times: total: 1.33 s\n",
            "Wall time: 1.34 s\n"
          ]
        }
      ],
      "source": [
        "%%time\n",
        "\n",
        "X_train = (pd.read_csv(filepath_or_buffer=X_train,\n",
        "                       header=None,\n",
        "                       names=features,\n",
        "                       delim_whitespace=True)\n",
        "             .assign(subject_train=subject_train))\n",
        "X_train.set_index(keys='subject_train',\n",
        "                  drop=True,\n",
        "                  append=True,\n",
        "                  inplace=True)"
      ]
    },
    {
      "cell_type": "code",
      "execution_count": null,
      "metadata": {
        "id": "XleeCOsiUsQI",
        "outputId": "4d34d3eb-f7c2-4415-932c-5f2754491d3c"
      },
      "outputs": [
        {
          "name": "stdout",
          "output_type": "stream",
          "text": [
            "<class 'pandas.core.frame.DataFrame'>\n",
            "MultiIndex: 7352 entries, (0, 1) to (7351, 30)\n",
            "Columns: 561 entries, 1 tBodyAcc-mean()-X to 561 angle(Z,gravityMean)\n",
            "dtypes: float64(561)\n",
            "memory usage: 31.5 MB\n"
          ]
        }
      ],
      "source": [
        "X_train.info()"
      ]
    },
    {
      "cell_type": "code",
      "execution_count": null,
      "metadata": {
        "id": "-tnr7kQ9UsQJ",
        "outputId": "28fd5cc9-d5db-4d0a-b19e-16caa4daf3d2"
      },
      "outputs": [
        {
          "name": "stdout",
          "output_type": "stream",
          "text": [
            "CPU times: total: 0 ns\n",
            "Wall time: 0 ns\n",
            "A quantidade de valores ausentes em X_train é 0\n"
          ]
        }
      ],
      "source": [
        "%time\n",
        "print('A quantidade de valores ausentes em X_train é', X_train.isna().sum().sum())\n"
      ]
    },
    {
      "cell_type": "code",
      "execution_count": null,
      "metadata": {
        "id": "nEhCjGCRUsQU",
        "outputId": "32672f84-c660-4fd9-87b0-4f445fc383f0"
      },
      "outputs": [
        {
          "name": "stdout",
          "output_type": "stream",
          "text": [
            "CPU times: total: 15.6 ms\n",
            "Wall time: 5.56 ms\n"
          ]
        }
      ],
      "source": [
        "%%time\n",
        "\n",
        "subject_test = (pd.read_csv(filepath_or_buffer=subject_test,\n",
        "                            header=None)\n",
        "                   .squeeze('columns'))\n"
      ]
    },
    {
      "cell_type": "code",
      "execution_count": null,
      "metadata": {
        "id": "ZHov5rM1UsQW",
        "outputId": "90440a6b-c922-430a-ba32-703f04d1959f"
      },
      "outputs": [
        {
          "name": "stderr",
          "output_type": "stream",
          "text": [
            "<timed exec>:1: FutureWarning: The 'delim_whitespace' keyword in pd.read_csv is deprecated and will be removed in a future version. Use ``sep='\\s+'`` instead\n"
          ]
        },
        {
          "name": "stdout",
          "output_type": "stream",
          "text": [
            "CPU times: total: 578 ms\n",
            "Wall time: 593 ms\n"
          ]
        }
      ],
      "source": [
        "%%time\n",
        "\n",
        "X_test = (pd.read_csv(filepath_or_buffer=X_test,\n",
        "                      header=None,\n",
        "                      names=features,\n",
        "                      delim_whitespace=True)\n",
        "             .assign(subject_test=subject_test))"
      ]
    },
    {
      "cell_type": "code",
      "execution_count": null,
      "metadata": {
        "id": "xEGChj-nUsQW",
        "outputId": "37daf8e8-036f-46ee-a799-37803cd23fed"
      },
      "outputs": [
        {
          "name": "stdout",
          "output_type": "stream",
          "text": [
            "CPU times: total: 0 ns\n",
            "Wall time: 3.52 ms\n"
          ]
        }
      ],
      "source": [
        "%%time\n",
        "\n",
        "X_test.set_index(keys='subject_test',\n",
        "                 drop=True,\n",
        "                 append=True,\n",
        "                 inplace=True)"
      ]
    },
    {
      "cell_type": "code",
      "execution_count": null,
      "metadata": {
        "id": "7APCfQGaUsQX",
        "outputId": "9f0a0165-ebae-4e14-9f9f-30949c843677"
      },
      "outputs": [
        {
          "name": "stdout",
          "output_type": "stream",
          "text": [
            "<class 'pandas.core.frame.DataFrame'>\n",
            "MultiIndex: 2947 entries, (0, 2) to (2946, 24)\n",
            "Columns: 561 entries, 1 tBodyAcc-mean()-X to 561 angle(Z,gravityMean)\n",
            "dtypes: float64(561)\n",
            "memory usage: 12.6 MB\n"
          ]
        }
      ],
      "source": [
        "X_test.info()"
      ]
    },
    {
      "cell_type": "code",
      "execution_count": null,
      "metadata": {
        "id": "PkJmZdJPUsQX",
        "outputId": "a3bf7b97-36a4-4022-d1f2-8c1a87c9a976"
      },
      "outputs": [
        {
          "name": "stdout",
          "output_type": "stream",
          "text": [
            "CPU times: total: 0 ns\n",
            "Wall time: 0 ns\n",
            "A quantidade de valores ausentes em X_test é 0\n"
          ]
        }
      ],
      "source": [
        "%time\n",
        "print('A quantidade de valores ausentes em X_test é', X_test.isna().sum().sum())\n"
      ]
    },
    {
      "cell_type": "code",
      "execution_count": null,
      "metadata": {
        "id": "gFKxRuwTUsQY",
        "outputId": "a799ac04-0f15-4cf0-d0ca-cfbd3dbd5995"
      },
      "outputs": [
        {
          "name": "stdout",
          "output_type": "stream",
          "text": [
            "CPU times: total: 4.3 s\n",
            "Wall time: 6.86 s\n"
          ]
        }
      ],
      "source": [
        "%%time\n",
        "\n",
        "os.makedirs(name='./output', exist_ok=True)\n",
        "X_train.to_csv(path_or_buf='./output/X_train.csv')\n",
        "X_test.to_csv(path_or_buf='./output/X_test.csv')"
      ]
    },
    {
      "cell_type": "code",
      "execution_count": null,
      "metadata": {
        "id": "aHxBpiidUsQY",
        "outputId": "a56df077-2c79-4f3f-df4c-57aa21c89d92"
      },
      "outputs": [
        {
          "name": "stdout",
          "output_type": "stream",
          "text": [
            "CPU times: total: 875 ms\n",
            "Wall time: 926 ms\n"
          ]
        }
      ],
      "source": [
        "%%time\n",
        "\n",
        "X_train = pd.read_csv('./output/X_train.csv', index_col=['Unnamed: 0', 'subject_train'])\n",
        "X_test = pd.read_csv('./output/X_test.csv', index_col=['Unnamed: 0', 'subject_test'])"
      ]
    },
    {
      "cell_type": "markdown",
      "metadata": {
        "id": "1p55gNxdUsQZ"
      },
      "source": [
        "- 1.7. Considere que esta base é maior que a da aula, tanto em linhas quanto em colunas. Selecione apenas as três primeiras colunas da base ('tBodyAcc-mean()-X', 'tBodyAcc-mean()-Y' e 'tBodyAcc-mean()-Z'), para efeitos desse exercício."
      ]
    },
    {
      "cell_type": "code",
      "execution_count": null,
      "metadata": {
        "id": "yB-tu8rDUsQZ",
        "outputId": "64c47f9b-f790-48bd-e3ce-0fb17e4b7a00"
      },
      "outputs": [
        {
          "name": "stdout",
          "output_type": "stream",
          "text": [
            "CPU times: total: 0 ns\n",
            "Wall time: 766 μs\n"
          ]
        }
      ],
      "source": [
        "%%time\n",
        "\n",
        "X_train = X_train.iloc[:,:3]\n",
        "X_test = X_test.iloc[:,:3]"
      ]
    },
    {
      "cell_type": "code",
      "execution_count": null,
      "metadata": {
        "id": "GRr3HohcUsQZ",
        "outputId": "63738d9c-034a-49dd-baba-399ebefa5baa"
      },
      "outputs": [
        {
          "name": "stdout",
          "output_type": "stream",
          "text": [
            "CPU times: total: 0 ns\n",
            "Wall time: 4.53 ms\n"
          ]
        }
      ],
      "source": [
        "%%time\n",
        "\n",
        "y_train = (pd.read_csv(filepath_or_buffer=y_train,\n",
        "                      header=None)\n",
        "             .squeeze('columns'))"
      ]
    },
    {
      "cell_type": "code",
      "execution_count": null,
      "metadata": {
        "id": "pbx_1cUaUsQa",
        "outputId": "9f518b31-e85b-40fa-a17e-d7ca80025140"
      },
      "outputs": [
        {
          "name": "stdout",
          "output_type": "stream",
          "text": [
            "CPU times: total: 0 ns\n",
            "Wall time: 7.31 ms\n"
          ]
        }
      ],
      "source": [
        "%%time\n",
        "\n",
        "y_test = (pd.read_csv(filepath_or_buffer=y_test,\n",
        "                      header=None)\n",
        "            .squeeze('columns'))"
      ]
    },
    {
      "cell_type": "code",
      "execution_count": null,
      "metadata": {
        "id": "K1k1PLvbUsQb",
        "outputId": "056cfa69-17cb-4053-b676-67f63b696bfa"
      },
      "outputs": [
        {
          "name": "stdout",
          "output_type": "stream",
          "text": [
            "X_train: (7352, 3)\n",
            "y_train: (7352,)\n",
            "X_test: (2947, 3)\n",
            "y_test: (2947,)\n",
            "CPU times: total: 0 ns\n",
            "Wall time: 0 ns\n"
          ]
        }
      ],
      "source": [
        "%%time\n",
        "\n",
        "print('X_train:', X_train.shape)\n",
        "print('y_train:', y_train.shape)\n",
        "print('X_test:', X_test.shape)\n",
        "print('y_test:', y_test.shape)"
      ]
    },
    {
      "cell_type": "markdown",
      "metadata": {
        "id": "1J263Bp8UsQb"
      },
      "source": [
        "### 2. Ajustar uma árvore de decisão\n",
        "\n",
        "- 2.1 ajuste uma árvore de decisão com número mínimo de observações por folha = 20. Certifique-se de que você esteja utilizando apenas as 3 variáveis indicadas no exercício anterior.\n",
        "- 2.2 Calcule os ccp_alphas. Como feito em aula, certifique-se de que todos os valores são positivos, e selecione apenas valores únicos.\n",
        "- 2.3 Considere que vamos fazer uma árvore para cada valor de ```ccp_alpha```. Para ter um pouco mais de velocidade, crie uma coleção de dados com os ```ccp_alphas```, considerando apenas 1 a cada 5 valores. Dica: utilize o slicing do tipo ```array[::5]``` para isto. Caso se sinta seguro, fique à vontade para utilizar mais valores de ```ccp_alpha```."
      ]
    },
    {
      "cell_type": "code",
      "execution_count": null,
      "metadata": {
        "id": "-LV0INazUsQb",
        "outputId": "cbf522d4-8c7a-44f6-c916-4f468c5adaa4"
      },
      "outputs": [
        {
          "name": "stdout",
          "output_type": "stream",
          "text": [
            "Quantidade de variáveis utilizadas em X_train: 3\n",
            "Quantidade de variáveis utilizadas em X_test: 3\n",
            "CPU times: total: 0 ns\n",
            "Wall time: 1 ms\n"
          ]
        }
      ],
      "source": [
        "%%time\n",
        "\n",
        "print('Quantidade de variáveis utilizadas em X_train:', X_train.shape[1])\n",
        "print('Quantidade de variáveis utilizadas em X_test:', X_test.shape[1])\n"
      ]
    },
    {
      "cell_type": "code",
      "execution_count": null,
      "metadata": {
        "id": "BENLCDx7UsQb",
        "outputId": "9d80e252-eec7-4bf3-9dbc-a3dcd45e36c7"
      },
      "outputs": [
        {
          "name": "stdout",
          "output_type": "stream",
          "text": [
            "CPU times: total: 0 ns\n",
            "Wall time: 0 ns\n"
          ]
        }
      ],
      "source": [
        "%%time\n",
        "\n",
        "clf = DecisionTreeClassifier(min_samples_leaf=20, random_state=42)\n"
      ]
    },
    {
      "cell_type": "code",
      "execution_count": null,
      "metadata": {
        "id": "kVrIzqHaUsQc",
        "outputId": "f6df9ba3-0078-4ad5-c2c3-3f6d8c297219"
      },
      "outputs": [
        {
          "data": {
            "text/html": [
              "<style>#sk-container-id-1 {\n",
              "  /* Definition of color scheme common for light and dark mode */\n",
              "  --sklearn-color-text: black;\n",
              "  --sklearn-color-line: gray;\n",
              "  /* Definition of color scheme for unfitted estimators */\n",
              "  --sklearn-color-unfitted-level-0: #fff5e6;\n",
              "  --sklearn-color-unfitted-level-1: #f6e4d2;\n",
              "  --sklearn-color-unfitted-level-2: #ffe0b3;\n",
              "  --sklearn-color-unfitted-level-3: chocolate;\n",
              "  /* Definition of color scheme for fitted estimators */\n",
              "  --sklearn-color-fitted-level-0: #f0f8ff;\n",
              "  --sklearn-color-fitted-level-1: #d4ebff;\n",
              "  --sklearn-color-fitted-level-2: #b3dbfd;\n",
              "  --sklearn-color-fitted-level-3: cornflowerblue;\n",
              "\n",
              "  /* Specific color for light theme */\n",
              "  --sklearn-color-text-on-default-background: var(--sg-text-color, var(--theme-code-foreground, var(--jp-content-font-color1, black)));\n",
              "  --sklearn-color-background: var(--sg-background-color, var(--theme-background, var(--jp-layout-color0, white)));\n",
              "  --sklearn-color-border-box: var(--sg-text-color, var(--theme-code-foreground, var(--jp-content-font-color1, black)));\n",
              "  --sklearn-color-icon: #696969;\n",
              "\n",
              "  @media (prefers-color-scheme: dark) {\n",
              "    /* Redefinition of color scheme for dark theme */\n",
              "    --sklearn-color-text-on-default-background: var(--sg-text-color, var(--theme-code-foreground, var(--jp-content-font-color1, white)));\n",
              "    --sklearn-color-background: var(--sg-background-color, var(--theme-background, var(--jp-layout-color0, #111)));\n",
              "    --sklearn-color-border-box: var(--sg-text-color, var(--theme-code-foreground, var(--jp-content-font-color1, white)));\n",
              "    --sklearn-color-icon: #878787;\n",
              "  }\n",
              "}\n",
              "\n",
              "#sk-container-id-1 {\n",
              "  color: var(--sklearn-color-text);\n",
              "}\n",
              "\n",
              "#sk-container-id-1 pre {\n",
              "  padding: 0;\n",
              "}\n",
              "\n",
              "#sk-container-id-1 input.sk-hidden--visually {\n",
              "  border: 0;\n",
              "  clip: rect(1px 1px 1px 1px);\n",
              "  clip: rect(1px, 1px, 1px, 1px);\n",
              "  height: 1px;\n",
              "  margin: -1px;\n",
              "  overflow: hidden;\n",
              "  padding: 0;\n",
              "  position: absolute;\n",
              "  width: 1px;\n",
              "}\n",
              "\n",
              "#sk-container-id-1 div.sk-dashed-wrapped {\n",
              "  border: 1px dashed var(--sklearn-color-line);\n",
              "  margin: 0 0.4em 0.5em 0.4em;\n",
              "  box-sizing: border-box;\n",
              "  padding-bottom: 0.4em;\n",
              "  background-color: var(--sklearn-color-background);\n",
              "}\n",
              "\n",
              "#sk-container-id-1 div.sk-container {\n",
              "  /* jupyter's `normalize.less` sets `[hidden] { display: none; }`\n",
              "     but bootstrap.min.css set `[hidden] { display: none !important; }`\n",
              "     so we also need the `!important` here to be able to override the\n",
              "     default hidden behavior on the sphinx rendered scikit-learn.org.\n",
              "     See: https://github.com/scikit-learn/scikit-learn/issues/21755 */\n",
              "  display: inline-block !important;\n",
              "  position: relative;\n",
              "}\n",
              "\n",
              "#sk-container-id-1 div.sk-text-repr-fallback {\n",
              "  display: none;\n",
              "}\n",
              "\n",
              "div.sk-parallel-item,\n",
              "div.sk-serial,\n",
              "div.sk-item {\n",
              "  /* draw centered vertical line to link estimators */\n",
              "  background-image: linear-gradient(var(--sklearn-color-text-on-default-background), var(--sklearn-color-text-on-default-background));\n",
              "  background-size: 2px 100%;\n",
              "  background-repeat: no-repeat;\n",
              "  background-position: center center;\n",
              "}\n",
              "\n",
              "/* Parallel-specific style estimator block */\n",
              "\n",
              "#sk-container-id-1 div.sk-parallel-item::after {\n",
              "  content: \"\";\n",
              "  width: 100%;\n",
              "  border-bottom: 2px solid var(--sklearn-color-text-on-default-background);\n",
              "  flex-grow: 1;\n",
              "}\n",
              "\n",
              "#sk-container-id-1 div.sk-parallel {\n",
              "  display: flex;\n",
              "  align-items: stretch;\n",
              "  justify-content: center;\n",
              "  background-color: var(--sklearn-color-background);\n",
              "  position: relative;\n",
              "}\n",
              "\n",
              "#sk-container-id-1 div.sk-parallel-item {\n",
              "  display: flex;\n",
              "  flex-direction: column;\n",
              "}\n",
              "\n",
              "#sk-container-id-1 div.sk-parallel-item:first-child::after {\n",
              "  align-self: flex-end;\n",
              "  width: 50%;\n",
              "}\n",
              "\n",
              "#sk-container-id-1 div.sk-parallel-item:last-child::after {\n",
              "  align-self: flex-start;\n",
              "  width: 50%;\n",
              "}\n",
              "\n",
              "#sk-container-id-1 div.sk-parallel-item:only-child::after {\n",
              "  width: 0;\n",
              "}\n",
              "\n",
              "/* Serial-specific style estimator block */\n",
              "\n",
              "#sk-container-id-1 div.sk-serial {\n",
              "  display: flex;\n",
              "  flex-direction: column;\n",
              "  align-items: center;\n",
              "  background-color: var(--sklearn-color-background);\n",
              "  padding-right: 1em;\n",
              "  padding-left: 1em;\n",
              "}\n",
              "\n",
              "\n",
              "/* Toggleable style: style used for estimator/Pipeline/ColumnTransformer box that is\n",
              "clickable and can be expanded/collapsed.\n",
              "- Pipeline and ColumnTransformer use this feature and define the default style\n",
              "- Estimators will overwrite some part of the style using the `sk-estimator` class\n",
              "*/\n",
              "\n",
              "/* Pipeline and ColumnTransformer style (default) */\n",
              "\n",
              "#sk-container-id-1 div.sk-toggleable {\n",
              "  /* Default theme specific background. It is overwritten whether we have a\n",
              "  specific estimator or a Pipeline/ColumnTransformer */\n",
              "  background-color: var(--sklearn-color-background);\n",
              "}\n",
              "\n",
              "/* Toggleable label */\n",
              "#sk-container-id-1 label.sk-toggleable__label {\n",
              "  cursor: pointer;\n",
              "  display: block;\n",
              "  width: 100%;\n",
              "  margin-bottom: 0;\n",
              "  padding: 0.5em;\n",
              "  box-sizing: border-box;\n",
              "  text-align: center;\n",
              "}\n",
              "\n",
              "#sk-container-id-1 label.sk-toggleable__label-arrow:before {\n",
              "  /* Arrow on the left of the label */\n",
              "  content: \"▸\";\n",
              "  float: left;\n",
              "  margin-right: 0.25em;\n",
              "  color: var(--sklearn-color-icon);\n",
              "}\n",
              "\n",
              "#sk-container-id-1 label.sk-toggleable__label-arrow:hover:before {\n",
              "  color: var(--sklearn-color-text);\n",
              "}\n",
              "\n",
              "/* Toggleable content - dropdown */\n",
              "\n",
              "#sk-container-id-1 div.sk-toggleable__content {\n",
              "  max-height: 0;\n",
              "  max-width: 0;\n",
              "  overflow: hidden;\n",
              "  text-align: left;\n",
              "  /* unfitted */\n",
              "  background-color: var(--sklearn-color-unfitted-level-0);\n",
              "}\n",
              "\n",
              "#sk-container-id-1 div.sk-toggleable__content.fitted {\n",
              "  /* fitted */\n",
              "  background-color: var(--sklearn-color-fitted-level-0);\n",
              "}\n",
              "\n",
              "#sk-container-id-1 div.sk-toggleable__content pre {\n",
              "  margin: 0.2em;\n",
              "  border-radius: 0.25em;\n",
              "  color: var(--sklearn-color-text);\n",
              "  /* unfitted */\n",
              "  background-color: var(--sklearn-color-unfitted-level-0);\n",
              "}\n",
              "\n",
              "#sk-container-id-1 div.sk-toggleable__content.fitted pre {\n",
              "  /* unfitted */\n",
              "  background-color: var(--sklearn-color-fitted-level-0);\n",
              "}\n",
              "\n",
              "#sk-container-id-1 input.sk-toggleable__control:checked~div.sk-toggleable__content {\n",
              "  /* Expand drop-down */\n",
              "  max-height: 200px;\n",
              "  max-width: 100%;\n",
              "  overflow: auto;\n",
              "}\n",
              "\n",
              "#sk-container-id-1 input.sk-toggleable__control:checked~label.sk-toggleable__label-arrow:before {\n",
              "  content: \"▾\";\n",
              "}\n",
              "\n",
              "/* Pipeline/ColumnTransformer-specific style */\n",
              "\n",
              "#sk-container-id-1 div.sk-label input.sk-toggleable__control:checked~label.sk-toggleable__label {\n",
              "  color: var(--sklearn-color-text);\n",
              "  background-color: var(--sklearn-color-unfitted-level-2);\n",
              "}\n",
              "\n",
              "#sk-container-id-1 div.sk-label.fitted input.sk-toggleable__control:checked~label.sk-toggleable__label {\n",
              "  background-color: var(--sklearn-color-fitted-level-2);\n",
              "}\n",
              "\n",
              "/* Estimator-specific style */\n",
              "\n",
              "/* Colorize estimator box */\n",
              "#sk-container-id-1 div.sk-estimator input.sk-toggleable__control:checked~label.sk-toggleable__label {\n",
              "  /* unfitted */\n",
              "  background-color: var(--sklearn-color-unfitted-level-2);\n",
              "}\n",
              "\n",
              "#sk-container-id-1 div.sk-estimator.fitted input.sk-toggleable__control:checked~label.sk-toggleable__label {\n",
              "  /* fitted */\n",
              "  background-color: var(--sklearn-color-fitted-level-2);\n",
              "}\n",
              "\n",
              "#sk-container-id-1 div.sk-label label.sk-toggleable__label,\n",
              "#sk-container-id-1 div.sk-label label {\n",
              "  /* The background is the default theme color */\n",
              "  color: var(--sklearn-color-text-on-default-background);\n",
              "}\n",
              "\n",
              "/* On hover, darken the color of the background */\n",
              "#sk-container-id-1 div.sk-label:hover label.sk-toggleable__label {\n",
              "  color: var(--sklearn-color-text);\n",
              "  background-color: var(--sklearn-color-unfitted-level-2);\n",
              "}\n",
              "\n",
              "/* Label box, darken color on hover, fitted */\n",
              "#sk-container-id-1 div.sk-label.fitted:hover label.sk-toggleable__label.fitted {\n",
              "  color: var(--sklearn-color-text);\n",
              "  background-color: var(--sklearn-color-fitted-level-2);\n",
              "}\n",
              "\n",
              "/* Estimator label */\n",
              "\n",
              "#sk-container-id-1 div.sk-label label {\n",
              "  font-family: monospace;\n",
              "  font-weight: bold;\n",
              "  display: inline-block;\n",
              "  line-height: 1.2em;\n",
              "}\n",
              "\n",
              "#sk-container-id-1 div.sk-label-container {\n",
              "  text-align: center;\n",
              "}\n",
              "\n",
              "/* Estimator-specific */\n",
              "#sk-container-id-1 div.sk-estimator {\n",
              "  font-family: monospace;\n",
              "  border: 1px dotted var(--sklearn-color-border-box);\n",
              "  border-radius: 0.25em;\n",
              "  box-sizing: border-box;\n",
              "  margin-bottom: 0.5em;\n",
              "  /* unfitted */\n",
              "  background-color: var(--sklearn-color-unfitted-level-0);\n",
              "}\n",
              "\n",
              "#sk-container-id-1 div.sk-estimator.fitted {\n",
              "  /* fitted */\n",
              "  background-color: var(--sklearn-color-fitted-level-0);\n",
              "}\n",
              "\n",
              "/* on hover */\n",
              "#sk-container-id-1 div.sk-estimator:hover {\n",
              "  /* unfitted */\n",
              "  background-color: var(--sklearn-color-unfitted-level-2);\n",
              "}\n",
              "\n",
              "#sk-container-id-1 div.sk-estimator.fitted:hover {\n",
              "  /* fitted */\n",
              "  background-color: var(--sklearn-color-fitted-level-2);\n",
              "}\n",
              "\n",
              "/* Specification for estimator info (e.g. \"i\" and \"?\") */\n",
              "\n",
              "/* Common style for \"i\" and \"?\" */\n",
              "\n",
              ".sk-estimator-doc-link,\n",
              "a:link.sk-estimator-doc-link,\n",
              "a:visited.sk-estimator-doc-link {\n",
              "  float: right;\n",
              "  font-size: smaller;\n",
              "  line-height: 1em;\n",
              "  font-family: monospace;\n",
              "  background-color: var(--sklearn-color-background);\n",
              "  border-radius: 1em;\n",
              "  height: 1em;\n",
              "  width: 1em;\n",
              "  text-decoration: none !important;\n",
              "  margin-left: 1ex;\n",
              "  /* unfitted */\n",
              "  border: var(--sklearn-color-unfitted-level-1) 1pt solid;\n",
              "  color: var(--sklearn-color-unfitted-level-1);\n",
              "}\n",
              "\n",
              ".sk-estimator-doc-link.fitted,\n",
              "a:link.sk-estimator-doc-link.fitted,\n",
              "a:visited.sk-estimator-doc-link.fitted {\n",
              "  /* fitted */\n",
              "  border: var(--sklearn-color-fitted-level-1) 1pt solid;\n",
              "  color: var(--sklearn-color-fitted-level-1);\n",
              "}\n",
              "\n",
              "/* On hover */\n",
              "div.sk-estimator:hover .sk-estimator-doc-link:hover,\n",
              ".sk-estimator-doc-link:hover,\n",
              "div.sk-label-container:hover .sk-estimator-doc-link:hover,\n",
              ".sk-estimator-doc-link:hover {\n",
              "  /* unfitted */\n",
              "  background-color: var(--sklearn-color-unfitted-level-3);\n",
              "  color: var(--sklearn-color-background);\n",
              "  text-decoration: none;\n",
              "}\n",
              "\n",
              "div.sk-estimator.fitted:hover .sk-estimator-doc-link.fitted:hover,\n",
              ".sk-estimator-doc-link.fitted:hover,\n",
              "div.sk-label-container:hover .sk-estimator-doc-link.fitted:hover,\n",
              ".sk-estimator-doc-link.fitted:hover {\n",
              "  /* fitted */\n",
              "  background-color: var(--sklearn-color-fitted-level-3);\n",
              "  color: var(--sklearn-color-background);\n",
              "  text-decoration: none;\n",
              "}\n",
              "\n",
              "/* Span, style for the box shown on hovering the info icon */\n",
              ".sk-estimator-doc-link span {\n",
              "  display: none;\n",
              "  z-index: 9999;\n",
              "  position: relative;\n",
              "  font-weight: normal;\n",
              "  right: .2ex;\n",
              "  padding: .5ex;\n",
              "  margin: .5ex;\n",
              "  width: min-content;\n",
              "  min-width: 20ex;\n",
              "  max-width: 50ex;\n",
              "  color: var(--sklearn-color-text);\n",
              "  box-shadow: 2pt 2pt 4pt #999;\n",
              "  /* unfitted */\n",
              "  background: var(--sklearn-color-unfitted-level-0);\n",
              "  border: .5pt solid var(--sklearn-color-unfitted-level-3);\n",
              "}\n",
              "\n",
              ".sk-estimator-doc-link.fitted span {\n",
              "  /* fitted */\n",
              "  background: var(--sklearn-color-fitted-level-0);\n",
              "  border: var(--sklearn-color-fitted-level-3);\n",
              "}\n",
              "\n",
              ".sk-estimator-doc-link:hover span {\n",
              "  display: block;\n",
              "}\n",
              "\n",
              "/* \"?\"-specific style due to the `<a>` HTML tag */\n",
              "\n",
              "#sk-container-id-1 a.estimator_doc_link {\n",
              "  float: right;\n",
              "  font-size: 1rem;\n",
              "  line-height: 1em;\n",
              "  font-family: monospace;\n",
              "  background-color: var(--sklearn-color-background);\n",
              "  border-radius: 1rem;\n",
              "  height: 1rem;\n",
              "  width: 1rem;\n",
              "  text-decoration: none;\n",
              "  /* unfitted */\n",
              "  color: var(--sklearn-color-unfitted-level-1);\n",
              "  border: var(--sklearn-color-unfitted-level-1) 1pt solid;\n",
              "}\n",
              "\n",
              "#sk-container-id-1 a.estimator_doc_link.fitted {\n",
              "  /* fitted */\n",
              "  border: var(--sklearn-color-fitted-level-1) 1pt solid;\n",
              "  color: var(--sklearn-color-fitted-level-1);\n",
              "}\n",
              "\n",
              "/* On hover */\n",
              "#sk-container-id-1 a.estimator_doc_link:hover {\n",
              "  /* unfitted */\n",
              "  background-color: var(--sklearn-color-unfitted-level-3);\n",
              "  color: var(--sklearn-color-background);\n",
              "  text-decoration: none;\n",
              "}\n",
              "\n",
              "#sk-container-id-1 a.estimator_doc_link.fitted:hover {\n",
              "  /* fitted */\n",
              "  background-color: var(--sklearn-color-fitted-level-3);\n",
              "}\n",
              "</style><div id=\"sk-container-id-1\" class=\"sk-top-container\"><div class=\"sk-text-repr-fallback\"><pre>DecisionTreeClassifier(min_samples_leaf=20, random_state=42)</pre><b>In a Jupyter environment, please rerun this cell to show the HTML representation or trust the notebook. <br />On GitHub, the HTML representation is unable to render, please try loading this page with nbviewer.org.</b></div><div class=\"sk-container\" hidden><div class=\"sk-item\"><div class=\"sk-estimator  sk-toggleable\"><input class=\"sk-toggleable__control sk-hidden--visually\" id=\"sk-estimator-id-1\" type=\"checkbox\" checked><label for=\"sk-estimator-id-1\" class=\"sk-toggleable__label  sk-toggleable__label-arrow \">&nbsp;&nbsp;DecisionTreeClassifier<a class=\"sk-estimator-doc-link \" rel=\"noreferrer\" target=\"_blank\" href=\"https://scikit-learn.org/1.5/modules/generated/sklearn.tree.DecisionTreeClassifier.html\">?<span>Documentation for DecisionTreeClassifier</span></a><span class=\"sk-estimator-doc-link \">i<span>Not fitted</span></span></label><div class=\"sk-toggleable__content \"><pre>DecisionTreeClassifier(min_samples_leaf=20, random_state=42)</pre></div> </div></div></div></div>"
            ],
            "text/plain": [
              "DecisionTreeClassifier(min_samples_leaf=20, random_state=42)"
            ]
          },
          "execution_count": 32,
          "metadata": {},
          "output_type": "execute_result"
        }
      ],
      "source": [
        "%%time\n",
        "\n",
        "clf"
      ]
    },
    {
      "cell_type": "code",
      "execution_count": null,
      "metadata": {
        "id": "oktICKaKUsQc",
        "outputId": "bba00ffc-26f2-4331-f48e-fe9a6ac25992"
      },
      "outputs": [
        {
          "name": "stdout",
          "output_type": "stream",
          "text": [
            "CPU times: total: 46.9 ms\n",
            "Wall time: 33.7 ms\n"
          ]
        }
      ],
      "source": [
        "%%time\n",
        "\n",
        "path = clf.cost_complexity_pruning_path(X=X_train, y=y_train)"
      ]
    },
    {
      "cell_type": "code",
      "execution_count": null,
      "metadata": {
        "id": "VwVdVDlgUsQd",
        "outputId": "95dd42d1-7af8-4704-c48c-437ca95ff8e6"
      },
      "outputs": [
        {
          "name": "stdout",
          "output_type": "stream",
          "text": [
            "CPU times: total: 0 ns\n",
            "Wall time: 0 ns\n"
          ]
        },
        {
          "data": {
            "text/plain": [
              "{'ccp_alphas': array([0.00000000e+00, 6.96674540e-06, 1.12766571e-05, 2.02554065e-05,\n",
              "        2.72034820e-05, 2.84988860e-05, 4.63397246e-05, 5.35004552e-05,\n",
              "        5.84401136e-05, 6.17808017e-05, 6.59866112e-05, 6.73768888e-05,\n",
              "        7.02851049e-05, 7.74168145e-05, 7.99585551e-05, 8.01474017e-05,\n",
              "        8.28222484e-05, 8.29342439e-05, 8.49667199e-05, 9.21474511e-05,\n",
              "        9.63598696e-05, 1.02953015e-04, 1.04280015e-04, 1.05722623e-04,\n",
              "        1.06211126e-04, 1.10109332e-04, 1.20580361e-04, 1.24186720e-04,\n",
              "        1.32053657e-04, 1.35233977e-04, 1.36017410e-04, 1.41963138e-04,\n",
              "        1.46351627e-04, 1.47352194e-04, 1.49244166e-04, 1.49492770e-04,\n",
              "        1.50482754e-04, 1.51968146e-04, 1.55713461e-04, 1.60511546e-04,\n",
              "        1.60628990e-04, 1.64239147e-04, 1.67323005e-04, 1.74342668e-04,\n",
              "        1.74907961e-04, 1.75578030e-04, 1.78985873e-04, 1.81439304e-04,\n",
              "        1.85996704e-04, 1.87333070e-04, 1.89065980e-04, 1.89796602e-04,\n",
              "        1.96759215e-04, 2.01481091e-04, 2.01919050e-04, 2.02866775e-04,\n",
              "        2.03119333e-04, 2.03378413e-04, 2.03817707e-04, 2.04208078e-04,\n",
              "        2.05459167e-04, 2.05888258e-04, 2.06087949e-04, 2.07617553e-04,\n",
              "        2.08114530e-04, 2.10826986e-04, 2.11960464e-04, 2.17477798e-04,\n",
              "        2.19602457e-04, 2.21008545e-04, 2.24338271e-04, 2.26826797e-04,\n",
              "        2.27594109e-04, 2.29384346e-04, 2.33602195e-04, 2.34736716e-04,\n",
              "        2.39444770e-04, 2.43328983e-04, 2.43708910e-04, 2.44518655e-04,\n",
              "        2.46942952e-04, 2.47932477e-04, 2.50650879e-04, 2.51257967e-04,\n",
              "        2.52203777e-04, 2.52748189e-04, 2.52885177e-04, 2.57941062e-04,\n",
              "        2.61784705e-04, 2.62058933e-04, 2.62429695e-04, 2.62495937e-04,\n",
              "        2.67630447e-04, 2.70488693e-04, 2.71875694e-04, 2.72574572e-04,\n",
              "        2.73408734e-04, 2.73576183e-04, 2.76564755e-04, 2.76980908e-04,\n",
              "        2.77215101e-04, 2.83037295e-04, 2.83764836e-04, 2.84437305e-04,\n",
              "        2.84698778e-04, 2.85662581e-04, 2.87980319e-04, 2.92548071e-04,\n",
              "        2.93437830e-04, 2.99870018e-04, 3.05722978e-04, 3.13171720e-04,\n",
              "        3.13526581e-04, 3.16535755e-04, 3.23054912e-04, 3.24609474e-04,\n",
              "        3.26787621e-04, 3.29146879e-04, 3.35062301e-04, 3.40670334e-04,\n",
              "        3.43367509e-04, 3.51668945e-04, 3.58694742e-04, 3.62713094e-04,\n",
              "        3.63436756e-04, 3.63559867e-04, 3.73564446e-04, 3.75461184e-04,\n",
              "        3.84334188e-04, 3.94496592e-04, 3.96370888e-04, 3.99220300e-04,\n",
              "        4.19227120e-04, 4.19434725e-04, 4.22445607e-04, 4.25042852e-04,\n",
              "        4.29862753e-04, 4.30962038e-04, 4.31629717e-04, 4.38983948e-04,\n",
              "        4.49467013e-04, 4.51528412e-04, 4.52056267e-04, 4.52181271e-04,\n",
              "        4.53267630e-04, 4.59401439e-04, 4.63079099e-04, 4.64533254e-04,\n",
              "        4.71890578e-04, 4.74616278e-04, 4.83849967e-04, 4.87208882e-04,\n",
              "        4.90222192e-04, 4.98107386e-04, 5.03828243e-04, 5.11220249e-04,\n",
              "        5.11794978e-04, 5.13442162e-04, 5.15301819e-04, 5.16617738e-04,\n",
              "        5.25236832e-04, 5.25732429e-04, 5.44069641e-04, 5.46401368e-04,\n",
              "        5.49656698e-04, 5.51314848e-04, 5.56286552e-04, 5.63595985e-04,\n",
              "        5.77273672e-04, 5.83273167e-04, 6.15435247e-04, 6.37883381e-04,\n",
              "        6.67392093e-04, 6.81399662e-04, 6.94156453e-04, 6.98447125e-04,\n",
              "        7.02050790e-04, 7.03929876e-04, 7.25806649e-04, 7.27899232e-04,\n",
              "        7.30780896e-04, 7.53735819e-04, 7.59430540e-04, 7.59492405e-04,\n",
              "        8.02355289e-04, 8.36454145e-04, 8.64950391e-04, 8.87310157e-04,\n",
              "        8.87734607e-04, 9.01936414e-04, 9.07569250e-04, 9.29376560e-04,\n",
              "        9.92557878e-04, 1.01036452e-03, 1.01795253e-03, 1.01949772e-03,\n",
              "        1.13240843e-03, 1.18956333e-03, 1.19153017e-03, 1.19164459e-03,\n",
              "        1.19311982e-03, 1.24197638e-03, 1.33031000e-03, 1.38150203e-03,\n",
              "        1.38381321e-03, 1.60586535e-03, 1.65230695e-03, 1.72863348e-03,\n",
              "        1.76394830e-03, 1.76436660e-03, 1.90309251e-03, 2.18765587e-03,\n",
              "        2.27161828e-03, 2.40709456e-03, 2.51099397e-03, 2.55472274e-03,\n",
              "        2.66788979e-03, 2.72689334e-03, 2.87647177e-03, 2.88225209e-03,\n",
              "        2.90352390e-03, 3.13001880e-03, 3.20821779e-03, 3.25102285e-03,\n",
              "        4.06191087e-03, 4.40039449e-03, 4.73006126e-03, 5.21789940e-03,\n",
              "        5.64842251e-03, 6.24547901e-03, 7.39929073e-03, 1.05395082e-02,\n",
              "        3.45953769e-02]),\n",
              " 'impurities': array([0.55531418, 0.55532115, 0.55533243, 0.55535268, 0.55537989,\n",
              "        0.55540839, 0.55545472, 0.55550823, 0.55556667, 0.55562845,\n",
              "        0.55569443, 0.55576181, 0.55583209, 0.55590951, 0.55606943,\n",
              "        0.55614958, 0.5562324 , 0.55631533, 0.5564003 , 0.55649245,\n",
              "        0.55658881, 0.55669176, 0.55679604, 0.55690176, 0.55711418,\n",
              "        0.55722429, 0.55770662, 0.5578308 , 0.55809491, 0.55823014,\n",
              "        0.55836616, 0.55850812, 0.55865448, 0.55880183, 0.55895107,\n",
              "        0.55910056, 0.55925105, 0.55940302, 0.55955873, 0.55971924,\n",
              "        0.5600405 , 0.56020474, 0.56037206, 0.5605464 , 0.56072131,\n",
              "        0.56089689, 0.56107588, 0.56125731, 0.56144331, 0.56163064,\n",
              "        0.56181971, 0.56200951, 0.56220627, 0.56240775, 0.56260967,\n",
              "        0.56281253, 0.56321877, 0.56342215, 0.56382979, 0.56403399,\n",
              "        0.56423945, 0.56444534, 0.56465143, 0.56485905, 0.56506716,\n",
              "        0.56527799, 0.56548995, 0.56570743, 0.56592703, 0.56614804,\n",
              "        0.56637238, 0.5665992 , 0.5668268 , 0.56751495, 0.56774855,\n",
              "        0.56798329, 0.56846218, 0.56870551, 0.56894922, 0.56919373,\n",
              "        0.56944068, 0.56968861, 0.56993926, 0.57019052, 0.57044272,\n",
              "        0.57069547, 0.57120124, 0.57145918, 0.57172097, 0.57224508,\n",
              "        0.57250751, 0.57277001, 0.57303764, 0.57330813, 0.57358001,\n",
              "        0.57439773, 0.57467114, 0.57494471, 0.57522128, 0.57549826,\n",
              "        0.57577547, 0.57605851, 0.57662604, 0.57691048, 0.57719518,\n",
              "        0.57748084, 0.5780568 , 0.57834935, 0.57864279, 0.5795424 ,\n",
              "        0.57984812, 0.58016129, 0.58047482, 0.58079135, 0.58111441,\n",
              "        0.58143902, 0.58176581, 0.58209495, 0.58276508, 0.58310575,\n",
              "        0.58344912, 0.58380078, 0.58415948, 0.58452219, 0.58488563,\n",
              "        0.58597631, 0.58672344, 0.5870989 , 0.58748323, 0.58787773,\n",
              "        0.58906684, 0.58946606, 0.59030452, 0.59072395, 0.5911464 ,\n",
              "        0.59157144, 0.59286103, 0.59329199, 0.59372362, 0.5941626 ,\n",
              "        0.59461207, 0.5950636 , 0.59551566, 0.59596784, 0.5964211 ,\n",
              "        0.59688051, 0.59734358, 0.59780812, 0.5987519 , 0.59970113,\n",
              "        0.60018498, 0.60213382, 0.60262404, 0.60312215, 0.60362598,\n",
              "        0.6041372 , 0.60464899, 0.60567587, 0.60619118, 0.60722441,\n",
              "        0.60774965, 0.60827538, 0.60881945, 0.60936585, 0.60991551,\n",
              "        0.61101814, 0.61213071, 0.61269431, 0.61327158, 0.61385485,\n",
              "        0.61447029, 0.61510817, 0.61577557, 0.61645696, 0.61715112,\n",
              "        0.61784957, 0.61855162, 0.61925555, 0.61998136, 0.62070926,\n",
              "        0.62144004, 0.62219377, 0.6229532 , 0.62371269, 0.62451505,\n",
              "        0.6253515 , 0.62621645, 0.62710376, 0.6279915 , 0.62889344,\n",
              "        0.629801  , 0.63073038, 0.63172294, 0.6327333 , 0.63476921,\n",
              "        0.63578871, 0.63692112, 0.63811068, 0.64049374, 0.64168538,\n",
              "        0.6428785 , 0.64412048, 0.64545079, 0.64683229, 0.6482161 ,\n",
              "        0.64982197, 0.65312658, 0.65485522, 0.65661917, 0.6601479 ,\n",
              "        0.66395408, 0.66614174, 0.66841336, 0.67082045, 0.67333145,\n",
              "        0.67588617, 0.67855406, 0.68128095, 0.68415742, 0.68703968,\n",
              "        0.6899432 , 0.69307322, 0.69628144, 0.70278348, 0.70684539,\n",
              "        0.71124579, 0.71597585, 0.72119375, 0.72684217, 0.73308765,\n",
              "        0.74048694, 0.76156596, 0.83075671])}"
            ]
          },
          "execution_count": 36,
          "metadata": {},
          "output_type": "execute_result"
        }
      ],
      "source": [
        "%%time\n",
        "\n",
        "path"
      ]
    },
    {
      "cell_type": "code",
      "execution_count": null,
      "metadata": {
        "id": "VG8gTd-wUsQd",
        "outputId": "fa17e6ad-25f6-4132-ee9a-34b90d8c922b"
      },
      "outputs": [
        {
          "name": "stdout",
          "output_type": "stream",
          "text": [
            "Tamanho total de ccp_alphas: 233\n",
            "Tamanho reduzido[::5] de ccp_alphas: 47\n",
            "CPU times: total: 0 ns\n",
            "Wall time: 1.02 ms\n"
          ]
        }
      ],
      "source": [
        "%%time\n",
        "\n",
        "print('Tamanho total de ccp_alphas:', len(path.ccp_alphas))\n",
        "print('Tamanho reduzido[::5] de ccp_alphas:', len(path.ccp_alphas[::5]))\n",
        "\n",
        "ccp_alphas, impurities = path.ccp_alphas[::5], path.impurities[::5]"
      ]
    },
    {
      "cell_type": "markdown",
      "metadata": {
        "id": "k6pKbISMUsQe"
      },
      "source": [
        "### 3. Desempenho da árvore por ccp_alpha\n",
        "\n",
        "- 3.1: Rode uma árvore para cada ```ccp_alpha```, salvando cada árvore em uma lista\n",
        "- 3.2: Calcule a acurácia de cada árvore na base de treinamento e de teste\n",
        "- 3.3: Monte um gráfico da acurácia em função do ```ccp_alpha``` na base de validação e na base de teste\n",
        "- 3.4: Selecione a melhor árvore como sendo aquela que possui melhor acurácia na base de teste\n",
        "- 3.5: Qual a melhor acurácia que se pode obter com estas três variáveis?\n",
        "\n",
        "**Dica:** utilize a estrutura do notebook apresentado em aula.  \n",
        "**Dica 2:** meça o tempo com a função mágica ```%%time``` na primeira linha da célula.  \n",
        "**Sugestão:** caso fique confortável com o tempo de execução, faça a busca pelo melhor ```ccp_alpha``` com mais iterações.  \n",
        "**Sugestão 2:** caso fique confortável com o tempo de execução, tente inserir uma ou mais variáveis adicionais e veja se consegue aumentar a acurácia."
      ]
    },
    {
      "cell_type": "code",
      "execution_count": null,
      "metadata": {
        "id": "IkEJ_4JMUsQe",
        "outputId": "377038db-3838-44fb-f5a5-c8dd40501c7a"
      },
      "outputs": [
        {
          "name": "stdout",
          "output_type": "stream",
          "text": [
            "CPU times: total: 2.56 s\n",
            "Wall time: 2.57 s\n"
          ]
        },
        {
          "data": {
            "text/plain": [
              "[DecisionTreeClassifier(random_state=42),\n",
              " DecisionTreeClassifier(ccp_alpha=2.849888595264009e-05, random_state=42),\n",
              " DecisionTreeClassifier(ccp_alpha=6.598661121074139e-05, random_state=42),\n",
              " DecisionTreeClassifier(ccp_alpha=8.01474017245638e-05, random_state=42),\n",
              " DecisionTreeClassifier(ccp_alpha=9.635986956873458e-05, random_state=42),\n",
              " DecisionTreeClassifier(ccp_alpha=0.00011010933208974519, random_state=42),\n",
              " DecisionTreeClassifier(ccp_alpha=0.00013601741022850914, random_state=42),\n",
              " DecisionTreeClassifier(ccp_alpha=0.0001494927703823909, random_state=42),\n",
              " DecisionTreeClassifier(ccp_alpha=0.00016062899036919714, random_state=42),\n",
              " DecisionTreeClassifier(ccp_alpha=0.00017557802954333655, random_state=42),\n",
              " DecisionTreeClassifier(ccp_alpha=0.00018906598037098836, random_state=42),\n",
              " DecisionTreeClassifier(ccp_alpha=0.00020286677471008027, random_state=42),\n",
              " DecisionTreeClassifier(ccp_alpha=0.00020545916743156412, random_state=42),\n",
              " DecisionTreeClassifier(ccp_alpha=0.0002108269858541894, random_state=42),\n",
              " DecisionTreeClassifier(ccp_alpha=0.0002243382705821922, random_state=42),\n",
              " DecisionTreeClassifier(ccp_alpha=0.0002347367158915606, random_state=42),\n",
              " DecisionTreeClassifier(ccp_alpha=0.00024694295209701754, random_state=42),\n",
              " DecisionTreeClassifier(ccp_alpha=0.0002527481893897397, random_state=42),\n",
              " DecisionTreeClassifier(ccp_alpha=0.00026242969489705115, random_state=42),\n",
              " DecisionTreeClassifier(ccp_alpha=0.00027257457208490894, random_state=42),\n",
              " DecisionTreeClassifier(ccp_alpha=0.00027721510107559313, random_state=42),\n",
              " DecisionTreeClassifier(ccp_alpha=0.00028566258107054054, random_state=42),\n",
              " DecisionTreeClassifier(ccp_alpha=0.00030572297808887077, random_state=42),\n",
              " DecisionTreeClassifier(ccp_alpha=0.00032460947368368864, random_state=42),\n",
              " DecisionTreeClassifier(ccp_alpha=0.0003433675092034457, random_state=42),\n",
              " DecisionTreeClassifier(ccp_alpha=0.00036355986671961156, random_state=42),\n",
              " DecisionTreeClassifier(ccp_alpha=0.0003963708882518772, random_state=42),\n",
              " DecisionTreeClassifier(ccp_alpha=0.00042504285168053213, random_state=42),\n",
              " DecisionTreeClassifier(ccp_alpha=0.0004494670133357165, random_state=42),\n",
              " DecisionTreeClassifier(ccp_alpha=0.00045940143904311167, random_state=42),\n",
              " DecisionTreeClassifier(ccp_alpha=0.00048384996698380874, random_state=42),\n",
              " DecisionTreeClassifier(ccp_alpha=0.0005112202485292351, random_state=42),\n",
              " DecisionTreeClassifier(ccp_alpha=0.0005252368321589738, random_state=42),\n",
              " DecisionTreeClassifier(ccp_alpha=0.0005513148483442627, random_state=42),\n",
              " DecisionTreeClassifier(ccp_alpha=0.00061543524669367, random_state=42),\n",
              " DecisionTreeClassifier(ccp_alpha=0.0006984471248092129, random_state=42),\n",
              " DecisionTreeClassifier(ccp_alpha=0.0007307808962765637, random_state=42),\n",
              " DecisionTreeClassifier(ccp_alpha=0.0008364541453705666, random_state=42),\n",
              " DecisionTreeClassifier(ccp_alpha=0.0009075692497005922, random_state=42),\n",
              " DecisionTreeClassifier(ccp_alpha=0.001019497716190261, random_state=42),\n",
              " DecisionTreeClassifier(ccp_alpha=0.0011931198191755046, random_state=42),\n",
              " DecisionTreeClassifier(ccp_alpha=0.0016058653506108994, random_state=42),\n",
              " DecisionTreeClassifier(ccp_alpha=0.0019030925093424904, random_state=42),\n",
              " DecisionTreeClassifier(ccp_alpha=0.002554722739379893, random_state=42),\n",
              " DecisionTreeClassifier(ccp_alpha=0.0029035238969861467, random_state=42),\n",
              " DecisionTreeClassifier(ccp_alpha=0.004400394494202736, random_state=42),\n",
              " DecisionTreeClassifier(ccp_alpha=0.007399290734061842, random_state=42)]"
            ]
          },
          "execution_count": 40,
          "metadata": {},
          "output_type": "execute_result"
        }
      ],
      "source": [
        "%%time\n",
        "\n",
        "clfs = []\n",
        "for ccp_alpha in ccp_alphas:\n",
        "    clf = DecisionTreeClassifier(random_state=42, ccp_alpha=ccp_alpha).fit(X_train, y_train)\n",
        "    clfs.append(clf)\n",
        "\n",
        "clfs\n"
      ]
    },
    {
      "cell_type": "code",
      "execution_count": null,
      "metadata": {
        "id": "wEBetKT8UsQf",
        "outputId": "6697c2b1-c968-4d49-8a07-63d3d4af7902"
      },
      "outputs": [
        {
          "name": "stdout",
          "output_type": "stream",
          "text": [
            "CPU times: total: 188 ms\n",
            "Wall time: 190 ms\n"
          ]
        }
      ],
      "source": [
        "%%time\n",
        "\n",
        "train_scores = [clf.score(X_train, y_train) for clf in clfs]\n",
        "test_scores  = [clf.score(X_test,  y_test ) for clf in clfs]"
      ]
    },
    {
      "cell_type": "code",
      "execution_count": null,
      "metadata": {
        "id": "-ta4PlkvUsQg",
        "outputId": "467663c8-c4fc-436d-d972-09e47e889c2a"
      },
      "outputs": [
        {
          "name": "stdout",
          "output_type": "stream",
          "text": [
            "Acurácia máxima de train_scores: 1.0\n",
            "Acurácia máxima de test_scores: 0.4472344757380387\n",
            "CPU times: total: 0 ns\n",
            "Wall time: 0 ns\n"
          ]
        }
      ],
      "source": [
        "%%time\n",
        "\n",
        "print('Acurácia máxima de train_scores:', max(train_scores))\n",
        "print('Acurácia máxima de test_scores:', max(test_scores))"
      ]
    },
    {
      "cell_type": "code",
      "execution_count": null,
      "metadata": {
        "id": "Y-sORU7WUsQh",
        "outputId": "2681b9af-f08c-478d-d617-234d16ff21cb"
      },
      "outputs": [
        {
          "data": {
            "image/png": "[encoded data removed]",
            "text/plain": [
              "<Figure size 640x480 with 1 Axes>"
            ]
          },
          "metadata": {},
          "output_type": "display_data"
        },
        {
          "name": "stdout",
          "output_type": "stream",
          "text": [
            "CPU times: total: 203 ms\n",
            "Wall time: 189 ms\n"
          ]
        }
      ],
      "source": [
        "%%time\n",
        "\n",
        "fig, ax = plt.subplots()\n",
        "\n",
        "ax.set_xlabel(xlabel='Alpha')\n",
        "ax.set_ylabel(ylabel='Acurácia')\n",
        "\n",
        "ax.set_title(label='Acurácia x Alpha dos conjuntos de dados treino e teste')\n",
        "\n",
        "ax.plot(ccp_alphas, train_scores, marker='o', label='Treino', color='green', drawstyle='steps-post')\n",
        "\n",
        "ax.plot(ccp_alphas, test_scores , marker='o', label='Teste' , color='gold', drawstyle='steps-post')\n",
        "\n",
        "ax.legend()\n",
        "\n",
        "plt.show()"
      ]
    },
    {
      "cell_type": "code",
      "execution_count": null,
      "metadata": {
        "id": "CuhAlO9HUsQh",
        "outputId": "ae512aab-4d14-40c8-c665-e5d4260e475e"
      },
      "outputs": [
        {
          "name": "stdout",
          "output_type": "stream",
          "text": [
            "O indice da melhor árvore é 25\n",
            "CPU times: total: 0 ns\n",
            "Wall time: 0 ns\n"
          ]
        }
      ],
      "source": [
        "%%time\n",
        "\n",
        "best_tree_index = len(test_scores) - test_scores[::-1].index(max(test_scores)) - 1\n",
        "print('O indice da melhor árvore é', best_tree_index)"
      ]
    },
    {
      "cell_type": "code",
      "execution_count": null,
      "metadata": {
        "id": "4QVC1TT0UsQi",
        "outputId": "0de75e2c-3e81-4059-e025-33c907bc1730"
      },
      "outputs": [
        {
          "name": "stdout",
          "output_type": "stream",
          "text": [
            "A melhor árvore é DecisionTreeClassifier(ccp_alpha=0.00036355986671961156, random_state=42)\n",
            "CPU times: total: 0 ns\n",
            "Wall time: 0 ns\n"
          ]
        }
      ],
      "source": [
        "%%time\n",
        "\n",
        "best_tree = clfs[best_tree_index]\n",
        "print('A melhor árvore é', best_tree)"
      ]
    },
    {
      "cell_type": "code",
      "execution_count": null,
      "metadata": {
        "id": "-EFxudiSUsQi",
        "outputId": "62b94db3-5e38-484b-f115-b2207ab9b85f"
      },
      "outputs": [
        {
          "name": "stdout",
          "output_type": "stream",
          "text": [
            "A melhor acurácia obtida com as três variáveis é de 0.4472344757380387\n",
            "CPU times: total: 15.6 ms\n",
            "Wall time: 4 ms\n"
          ]
        }
      ],
      "source": [
        "%%time\n",
        "\n",
        "print('A melhor acurácia obtida com as três variáveis é de',\n",
        "      best_tree.score(X=X_test, y=y_test))"
      ]
    },
    {
      "cell_type": "code",
      "execution_count": null,
      "metadata": {
        "id": "-lxVTb5ZUsQu",
        "outputId": "23f1a08e-277a-47df-fb8b-b227ed4b74a9"
      },
      "outputs": [
        {
          "data": {
            "image/png": "[encoded data removed]",
            "text/plain": [
              "<Figure size 640x480 with 2 Axes>"
            ]
          },
          "metadata": {},
          "output_type": "display_data"
        },
        {
          "name": "stdout",
          "output_type": "stream",
          "text": [
            "CPU times: total: 234 ms\n",
            "Wall time: 222 ms\n"
          ]
        }
      ],
      "source": [
        "%%time\n",
        "\n",
        "ConfusionMatrixDisplay.from_estimator(estimator=best_tree, X=X_test, y=y_test);\n",
        "plt.show()\n"
      ]
    },
    {
      "cell_type": "code",
      "execution_count": null,
      "metadata": {
        "id": "yrYsbKhqUsQv",
        "outputId": "02b1e843-a17f-4aa5-e1d4-5ef64d57a0e0"
      },
      "outputs": [
        {
          "name": "stdout",
          "output_type": "stream",
          "text": [
            "CPU times: total: 781 ms\n",
            "Wall time: 836 ms\n"
          ]
        }
      ],
      "source": [
        "%%time\n",
        "\n",
        "X_train = pd.read_csv('./output/X_train.csv', index_col=['Unnamed: 0', 'subject_train'])\n",
        "X_test = pd.read_csv('./output/X_test.csv', index_col=['Unnamed: 0', 'subject_test'])"
      ]
    },
    {
      "cell_type": "code",
      "execution_count": null,
      "metadata": {
        "id": "abUh2pejUsQv",
        "outputId": "5cdd50e9-fb45-4fd3-9d74-b289b9eb6560"
      },
      "outputs": [
        {
          "name": "stdout",
          "output_type": "stream",
          "text": [
            "CPU times: total: 0 ns\n",
            "Wall time: 14.6 ms\n"
          ]
        }
      ],
      "source": [
        "%%time\n",
        "\n",
        "y_train = (pd.read_csv(filepath_or_buffer='y_train.txt',\n",
        "                      header=None)\n",
        "             .squeeze('columns'))"
      ]
    },
    {
      "cell_type": "code",
      "execution_count": null,
      "metadata": {
        "id": "_C_bhOGUUsQw",
        "outputId": "360e524f-aac2-42a7-92c8-fad6e0bdd901"
      },
      "outputs": [
        {
          "name": "stdout",
          "output_type": "stream",
          "text": [
            "CPU times: total: 0 ns\n",
            "Wall time: 5.52 ms\n"
          ]
        }
      ],
      "source": [
        "%%time\n",
        "\n",
        "y_test = (pd.read_csv(filepath_or_buffer='y_test.txt',\n",
        "                      header=None)\n",
        "            .squeeze('columns'))"
      ]
    },
    {
      "cell_type": "code",
      "execution_count": null,
      "metadata": {
        "id": "80gCeJuyUsQw",
        "outputId": "f97d675b-4b04-490c-aa9b-3f4a56022b52"
      },
      "outputs": [
        {
          "name": "stdout",
          "output_type": "stream",
          "text": [
            "Quantidade de variáveis utilizadas em X_train: 561\n",
            "Quantidade de variáveis utilizadas em X_test: 561\n",
            "CPU times: total: 0 ns\n",
            "Wall time: 0 ns\n"
          ]
        }
      ],
      "source": [
        "%%time\n",
        "print('Quantidade de variáveis utilizadas em X_train:', X_train.shape[1])\n",
        "print('Quantidade de variáveis utilizadas em X_test:', X_test.shape[1])\n",
        "\n"
      ]
    },
    {
      "cell_type": "code",
      "execution_count": null,
      "metadata": {
        "id": "R8RVCwXOUsQw",
        "outputId": "0e8d2784-8d3d-4a31-b32d-3dbddd588ac4"
      },
      "outputs": [
        {
          "name": "stdout",
          "output_type": "stream",
          "text": [
            "CPU times: total: 0 ns\n",
            "Wall time: 0 ns\n"
          ]
        }
      ],
      "source": [
        "%%time\n",
        "clf = DecisionTreeClassifier(min_samples_leaf=20, random_state=42)"
      ]
    },
    {
      "cell_type": "code",
      "execution_count": null,
      "metadata": {
        "id": "65iy4hSSUsQx",
        "outputId": "8b52e834-9e26-4e0b-be32-29e5311954fe"
      },
      "outputs": [
        {
          "name": "stdout",
          "output_type": "stream",
          "text": [
            "CPU times: total: 3.34 s\n",
            "Wall time: 3.37 s\n"
          ]
        }
      ],
      "source": [
        "%%time\n",
        "path = clf.cost_complexity_pruning_path(X=X_train, y=y_train)"
      ]
    },
    {
      "cell_type": "code",
      "execution_count": null,
      "metadata": {
        "id": "wqsm-ozfUsQx",
        "outputId": "9823122b-6c75-4e36-8cda-63ed947847b3"
      },
      "outputs": [
        {
          "name": "stdout",
          "output_type": "stream",
          "text": [
            "Tamanho total de ccp_alphas: 64\n",
            "CPU times: total: 0 ns\n",
            "Wall time: 0 ns\n"
          ]
        }
      ],
      "source": [
        "%%time\n",
        "ccp_alphas, impurities = path.ccp_alphas, path.impurities\n",
        "print('Tamanho total de ccp_alphas:', len(ccp_alphas))\n"
      ]
    },
    {
      "cell_type": "code",
      "execution_count": null,
      "metadata": {
        "id": "xG1KYV3cUsQx",
        "outputId": "564837c6-f901-433e-d1d4-232f1cd13c11"
      },
      "outputs": [
        {
          "name": "stdout",
          "output_type": "stream",
          "text": [
            "CPU times: total: 4min 39s\n",
            "Wall time: 4min 41s\n"
          ]
        }
      ],
      "source": [
        "%%time\n",
        "\n",
        "clfs = []\n",
        "for ccp_alpha in ccp_alphas:\n",
        "    clf = DecisionTreeClassifier(random_state=42, ccp_alpha=ccp_alpha).fit(X_train, y_train)\n",
        "    clfs.append(clf)"
      ]
    },
    {
      "cell_type": "code",
      "execution_count": null,
      "metadata": {
        "id": "_YG8WKKnUsQy",
        "outputId": "4ed07e03-2d9e-4012-dc2e-9d2292d2e1aa"
      },
      "outputs": [
        {
          "name": "stdout",
          "output_type": "stream",
          "text": [
            "CPU times: total: 1.17 s\n",
            "Wall time: 1.17 s\n"
          ]
        }
      ],
      "source": [
        "%%time\n",
        "train_scores = [clf.score(X_train, y_train) for clf in clfs]\n",
        "test_scores  = [clf.score(X_test,  y_test ) for clf in clfs]"
      ]
    },
    {
      "cell_type": "code",
      "execution_count": null,
      "metadata": {
        "id": "Tz0fM3LyUsQy",
        "outputId": "63648b6e-0b99-4c45-a596-0ad7bef7ae6e"
      },
      "outputs": [
        {
          "name": "stdout",
          "output_type": "stream",
          "text": [
            "Acurácia máxima em train_scores: 1.0\n",
            "Acurácia máxima em test_scores: 0.8788598574821853\n",
            "CPU times: total: 0 ns\n",
            "Wall time: 0 ns\n"
          ]
        }
      ],
      "source": [
        "%%time\n",
        "print('Acurácia máxima em train_scores:', max(train_scores))\n",
        "print('Acurácia máxima em test_scores:', max(test_scores))"
      ]
    },
    {
      "cell_type": "code",
      "execution_count": null,
      "metadata": {
        "id": "XcCw4m0GUsQz",
        "outputId": "2ba55c87-c8d1-444b-e172-27a2a91d5aa9"
      },
      "outputs": [
        {
          "data": {
            "image/png": "[encoded data removed]",
            "text/plain": [
              "<Figure size 640x480 with 1 Axes>"
            ]
          },
          "metadata": {},
          "output_type": "display_data"
        },
        {
          "name": "stdout",
          "output_type": "stream",
          "text": [
            "CPU times: total: 141 ms\n",
            "Wall time: 133 ms\n"
          ]
        }
      ],
      "source": [
        "%%time\n",
        "\n",
        "fig, ax = plt.subplots()\n",
        "\n",
        "ax.set_xlabel(xlabel='Alpha')\n",
        "\n",
        "ax.set_ylabel(ylabel='Acurácia')\n",
        "\n",
        "ax.set_title(label='Acurácia  X  Alpha do conjunto de dados de treino e teste')\n",
        "\n",
        "ax.plot(ccp_alphas, train_scores, marker='o', label='Treino', color='green', drawstyle='steps-post')\n",
        "\n",
        "ax.plot(ccp_alphas, test_scores , marker='o', label='Teste' , color='gold', drawstyle='steps-post')\n",
        "\n",
        "ax.legend()\n",
        "\n",
        "plt.show()"
      ]
    },
    {
      "cell_type": "markdown",
      "metadata": {
        "id": "wmc9fouzUsQz"
      },
      "source": [
        "-------------------"
      ]
    },
    {
      "cell_type": "code",
      "execution_count": null,
      "metadata": {
        "id": "qGgaC5apUsQz",
        "outputId": "f3cb294f-bd62-41bb-f86c-634ecc78f7a1"
      },
      "outputs": [
        {
          "name": "stdout",
          "output_type": "stream",
          "text": [
            "CPU times: total: 0 ns\n",
            "Wall time: 0 ns\n"
          ]
        }
      ],
      "source": [
        "%%time\n",
        "best_tree_index = len(test_scores) - test_scores[::-1].index(max(test_scores)) - 1\n",
        "best_tree = clfs[best_tree_index]\n"
      ]
    },
    {
      "cell_type": "code",
      "execution_count": null,
      "metadata": {
        "id": "hr0VwDHyUsQ0",
        "outputId": "4e104e52-05ad-41fd-d57d-e3d18d30fc5b"
      },
      "outputs": [
        {
          "name": "stdout",
          "output_type": "stream",
          "text": [
            "A melhor acurácia que se pode obter com todas as variáveis é: 0.8788598574821853\n",
            "CPU times: total: 15.6 ms\n",
            "Wall time: 17.1 ms\n"
          ]
        }
      ],
      "source": [
        "%%time\n",
        "\n",
        "print('A melhor acurácia que se pode obter com todas as variáveis é:',\n",
        "      best_tree.score(X=X_test, y=y_test))"
      ]
    },
    {
      "cell_type": "code",
      "execution_count": null,
      "metadata": {
        "id": "oZ4RJhIWUsQ1",
        "outputId": "8b18a951-ca20-4c64-97ea-e48536fb8af5"
      },
      "outputs": [
        {
          "data": {
            "image/png": "[encoded data removed]",
            "text/plain": [
              "<Figure size 640x480 with 2 Axes>"
            ]
          },
          "metadata": {},
          "output_type": "display_data"
        },
        {
          "name": "stdout",
          "output_type": "stream",
          "text": [
            "CPU times: total: 141 ms\n",
            "Wall time: 148 ms\n"
          ]
        }
      ],
      "source": [
        "%%time\n",
        "\n",
        "ConfusionMatrixDisplay.from_estimator(estimator=best_tree, X=X_test, y=y_test);\n",
        "plt.show()\n"
      ]
    },
    {
      "cell_type": "markdown",
      "metadata": {
        "id": "UoyWoUJLUsQ1"
      },
      "source": [
        "-----------------------------"
      ]
    },
    {
      "cell_type": "markdown",
      "metadata": {
        "id": "9QLQl0nAUsQ2"
      },
      "source": [
        "-----------------------------"
      ]
    }
  ],
  "metadata": {
    "kernelspec": {
      "display_name": "Python 3 (ipykernel)",
      "language": "python",
      "name": "python3"
    },
    "language_info": {
      "codemirror_mode": {
        "name": "ipython",
        "version": 3
      },
      "file_extension": ".py",
      "mimetype": "text/x-python",
      "name": "python",
      "nbconvert_exporter": "python",
      "pygments_lexer": "ipython3",
      "version": "3.12.7"
    },
    "colab": {
      "provenance": [],
      "include_colab_link": true
    }
  },
  "nbformat": 4,
  "nbformat_minor": 0
}