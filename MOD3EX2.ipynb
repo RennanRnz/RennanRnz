{
  "cells": [
    {
      "cell_type": "markdown",
      "metadata": {
        "id": "view-in-github",
        "colab_type": "text"
      },
      "source": [
        "<a href=\"https://colab.research.google.com/github/RennanRnz/RennanRnz/blob/main/MOD3EX2.ipynb\" target=\"_parent\"><img src=\"https://colab.research.google.com/assets/colab-badge.svg\" alt=\"Open In Colab\"/></a>"
      ]
    },
    {
      "cell_type": "code",
      "execution_count": 1,
      "metadata": {
        "id": "fFhFteHV695k"
      },
      "outputs": [],
      "source": [
        "import numpy as np"
      ]
    },
    {
      "cell_type": "markdown",
      "metadata": {
        "id": "YLWEzg3N695m"
      },
      "source": [
        "### 1) Alturas  \n",
        "i. No trecho de código abaixo, crie um ndarray chamado ```altura_em_centimetros``` transformando a lista ```lista_de_alturas``` em um ndarray do numpy com a função ```np.array()```  \n",
        "ii. Crie um outro objeto ```altura_em_metros```, com os valores de ```altura_em_centimetros``` convertidos para metros."
      ]
    },
    {
      "cell_type": "code",
      "execution_count": 2,
      "metadata": {
        "id": "tx6DbJk7695o",
        "colab": {
          "base_uri": "https://localhost:8080/"
        },
        "outputId": "abe831b1-6d24-4444-ec97-4880264bb257"
      },
      "outputs": [
        {
          "output_type": "stream",
          "name": "stdout",
          "text": [
            "[1.7  1.75 1.8  1.85]\n"
          ]
        }
      ],
      "source": [
        "# Lista de alturas em centímetros\n",
        "lista_em_centimetros = list(range(170, 190, 5))\n",
        "\n",
        "# Criando um ndarray a partir da lista.\n",
        "altura_em_centimetros = np.array(lista_em_centimetros)\n",
        "\n",
        "# Convertendo para metros (dividindo por 100).\n",
        "altura_em_metros = altura_em_centimetros / 100\n",
        "\n",
        "print(altura_em_metros)"
      ]
    },
    {
      "cell_type": "markdown",
      "metadata": {
        "id": "hlsDzubv695p"
      },
      "source": [
        "### 2) IMC  \n",
        "i. Considere que pesos em Kg dessas pessoas, na mesma ortem, estão na lista pesos ```lista_pesos = [70, 75, 80, 85]```. Crie um **ndarray** chamado ```pesos``` com a função ```np.array()``` que contenha esses valores.  \n",
        "ii. Utilizando o objeto que contém as alturas em metros e esse objeto que contém os respectivos pesos em quilos, calcule o IMC desses indivíduos utilizando a aritmética de arrays e guarde os resultados em um objeto chamado ```imc```."
      ]
    },
    {
      "cell_type": "code",
      "execution_count": 3,
      "metadata": {
        "id": "YL87C0It695p",
        "outputId": "d8807938-900d-4e2b-c980-894d8e49d0de",
        "colab": {
          "base_uri": "https://localhost:8080/"
        }
      },
      "outputs": [
        {
          "output_type": "stream",
          "name": "stdout",
          "text": [
            "[24.22145329 24.48979592 24.69135802 24.83564646]\n"
          ]
        }
      ],
      "source": [
        "# Dados das alturas (já convertidos para metros)\n",
        "altura_em_metros = np.array([1.7, 1.75, 1.8, 1.85])\n",
        "\n",
        "# Dados dos pesos.\n",
        "lista_pesos = [70, 75, 80, 85]\n",
        "pesos = np.array(lista_pesos)\n",
        "\n",
        "# Calculando o IMC. Lembrando que a fórmula do IMC é (IMC = peso / altura**2).\n",
        "imc = pesos / (altura_em_metros ** 2)\n",
        "\n",
        "print(imc)\n"
      ]
    },
    {
      "cell_type": "markdown",
      "metadata": {
        "id": "k1JIBxZb695r"
      },
      "source": [
        "### 3) Endividamento\n",
        "\n",
        "Cálculos de novas variáveis como endividamento total e comprometimento de renda são essenciais para a construção de modelos financeiros em ciência de dados. Áreas não financeiras terão cálculos semelhantes também. Vamos praticar:\n",
        "\n",
        "Considere que o seguinte ndarray contém os dados de 4 pessoas, total a ser pago a empréstimos mensalmente e renda familiar:\n",
        "\n",
        "| custo fixo | dívida financeira | renda familiar |\n",
        "|:----:|:----:|:---|\n",
        "| 3000  | 1000 | 6000 |\n",
        "| 2500  | 2500 | 5500 |\n",
        "| 1000  | 3000 | 7000 |\n",
        "| 10000 | 5000 | 16000 |\n",
        "\n",
        "i. Transforme a lista de listas ```dados_financeiros``` no ndarray ```nd_financeiros```.\n",
        "> ``` dados_financeiros[[3000, 2500, 1000, 10000],[1000, 2500, 3000, 5000],[6000, 5500, 7000, 16000]] ```\n",
        "\n",
        "ii. Utilize o método ```.transpose ``` e certifique-se de que esse ndarray tenha uma linha por indivíduo e uma coluna por informação. Utilizando a indexação do numpy, imprima no output a segunda linha do array, depois a segunda coluna.\n",
        "\n",
        "iii. Pratique aritmética com nearrays e calcule o endividamento total como:\n",
        "$$endividamento\\hspace{.2cm}total = \\frac{custo \\hspace{.2cm}fixo + dívida\\hspace{.2cm}financeira}{renda\\hspace{.2cm}familiar}$$\n",
        "Guarde os resultados em uma variável chamada ```endividamento_total``` e verifique os resultados imprimindo o conteúdo dessa variável no output.\n",
        "\n",
        "iv. Considere que há um erro de digitação que precisa ser corrigido: 3o indivíduo na verdade não possui renda familiar de R\\\\$7.000,00, mas sim R\\\\$ 10.000,00. Corrija esse valor e refaça os cálculos."
      ]
    },
    {
      "cell_type": "code",
      "execution_count": 4,
      "metadata": {
        "id": "k17jw6kT695r",
        "colab": {
          "base_uri": "https://localhost:8080/"
        },
        "outputId": "585bbb92-5420-41bc-eb1e-a659bc2f6d23"
      },
      "outputs": [
        {
          "output_type": "stream",
          "name": "stdout",
          "text": [
            "[[ 3000  2500  1000 10000]\n",
            " [ 1000  2500  3000  5000]\n",
            " [ 6000  5500  7000 16000]]\n"
          ]
        }
      ],
      "source": [
        "# lista dados_financeiros.\n",
        "dados_financeiros = [[3000, 2500, 1000, 10000],[1000, 2500, 3000, 5000],[6000, 5500, 7000, 16000]]\n",
        "\n",
        "# Convertendo para um ndarray.\n",
        "nd_financeiros = np.array(dados_financeiros)\n",
        "\n",
        "print(nd_financeiros)\n"
      ]
    },
    {
      "cell_type": "code",
      "execution_count": 5,
      "metadata": {
        "id": "ecRsPjml695r",
        "colab": {
          "base_uri": "https://localhost:8080/"
        },
        "outputId": "61b4cd9e-6e07-488b-efb5-908cd3232c18"
      },
      "outputs": [
        {
          "output_type": "stream",
          "name": "stdout",
          "text": [
            "[[ 3000  1000  6000]\n",
            " [ 2500  2500  5500]\n",
            " [ 1000  3000  7000]\n",
            " [10000  5000 16000]]\n",
            "Dívida financeira de cada indivíduo: [2500 2500 5500]\n",
            "Dados do segundo indivíduo: [1000 2500 3000 5000]\n"
          ]
        }
      ],
      "source": [
        "# ii)\n",
        "\n",
        "# Transpondo o ndarray.\n",
        "nd_financeiros = nd_financeiros.T\n",
        "\n",
        "print(nd_financeiros)\n",
        "\n",
        "# Imprimindo a segunda linha (agora representa a dívida financeira).\n",
        "print(\"Dívida financeira de cada indivíduo:\", nd_financeiros[1])\n",
        "\n",
        "# Imprimindo a segunda coluna (agora representa o segundo indivíduo).\n",
        "print(\"Dados do segundo indivíduo:\", nd_financeiros[:, 1])"
      ]
    },
    {
      "cell_type": "code",
      "execution_count": 6,
      "metadata": {
        "id": "RgMG-t9-695s",
        "colab": {
          "base_uri": "https://localhost:8080/"
        },
        "outputId": "58bdf1a1-0096-4293-b42a-b6e08622a46c"
      },
      "outputs": [
        {
          "output_type": "stream",
          "name": "stdout",
          "text": [
            "Endividamento total de cada indivíduo:\n",
            "[5.5        1.16666667 1.64285714]\n"
          ]
        }
      ],
      "source": [
        "# iii) Calcule o endividamento total.\n",
        "\n",
        "# Convertendo para um ndarray e transpondo.\n",
        "nd_financeiros = np.array(dados_financeiros).T\n",
        "\n",
        "# Extraindo as colunas.\n",
        "custo_fixo = nd_financeiros[0]\n",
        "divida_financeira = nd_financeiros[1]\n",
        "renda_familiar = nd_financeiros[2]\n",
        "\n",
        "# Calculando o endividamento total e armazenando.\n",
        "endividamento_total = (custo_fixo + divida_financeira) / renda_familiar\n",
        "\n",
        "# Imprimindo os resultados.\n",
        "print(\"Endividamento total de cada indivíduo:\")\n",
        "print(endividamento_total)"
      ]
    },
    {
      "cell_type": "markdown",
      "metadata": {
        "id": "czjBlvjZ0VPQ"
      },
      "source": [
        "# Planilha corrigida:\n",
        "| custo fixo | dívida financeira | renda familiar |\n",
        "|:----:|:----:|:---|\n",
        "| 3000  | 1000 | 6000 |\n",
        "| 2500  | 2500 | 5500 |\n",
        "| 1000  | 3000 | 10000 |\n",
        "| 10000 | 5000 | 16000 |\n"
      ]
    },
    {
      "cell_type": "code",
      "execution_count": 7,
      "metadata": {
        "id": "FxaSHRgy695t",
        "colab": {
          "base_uri": "https://localhost:8080/"
        },
        "outputId": "4b002f35-77e2-48bd-c95e-f9ddd3170ebd"
      },
      "outputs": [
        {
          "output_type": "stream",
          "name": "stdout",
          "text": [
            "Endividamento total de cada indivíduo após a correção:\n",
            "[5.5        1.16666667 1.15      ]\n"
          ]
        }
      ],
      "source": [
        "# iv) corrigindo um valor específico.\n",
        "\n",
        "# Dados financeiros (lista de listas) com a correção\n",
        "dados_financeiros = [[3000, 2500, 1000, 10000],[1000, 2500, 3000, 5000],[6000, 5500, 10000, 16000]]\n",
        "\n",
        "# Convertendo para um ndarray e transpondo.\n",
        "nd_financeiros = np.array(dados_financeiros).T\n",
        "\n",
        "# Extraindo as colunas.\n",
        "custo_fixo = nd_financeiros[0]\n",
        "divida_financeira = nd_financeiros[1]\n",
        "renda_familiar = nd_financeiros[2]\n",
        "\n",
        "# Calculando o endividamento total e armazenando.\n",
        "endividamento_total = (custo_fixo + divida_financeira) / renda_familiar\n",
        "\n",
        "# Imprimindo os resultados.\n",
        "print(\"Endividamento total de cada indivíduo após a correção:\")\n",
        "print(endividamento_total)"
      ]
    },
    {
      "cell_type": "markdown",
      "metadata": {
        "id": "ldJF-HBN0VPU"
      },
      "source": [
        "-------------------------------------------------------------------------------------------------------------"
      ]
    },
    {
      "cell_type": "markdown",
      "metadata": {
        "id": "RghMgSOX695t"
      },
      "source": [
        "### 4) É muito comum precisarmos identificar valores especiais e darmos tratamento a eles quer seja alterando-os quer seja descartando-os.\n",
        "\n",
        "O trecho de código abaixo gera um ndarray com números pseudo aleatórios. Considere que para efeitos do estudo que virá, devemos desconsiderar valores iguais a zero. Sendo assim:\n",
        "\n",
        "i) crie um objeto ```bool_zero``` que traga uma sequencia de booleanos do mesmo tamanho que o objeto poi, e que vale ```True``` quando o valor de ```poi``` é zero, e ```False``` caso contrário.\n",
        "\n",
        "ii) Conte quantos valores zero existem. Lembre-se de que no final das contas, ```True``` vale 1 para o Python, e ```False``` vale zero, então uma boa dica seria usar a função ```sum()```.\n",
        "\n",
        "iii) Utilize a indexação booleana que você aprendeu para criar uma variável ```poi_nao_zero``` que aponta para os elementos de ```poi``` diferentes de zero. Dica: você vai pode inverter os elementos do objeto que criou em *ii)* ou escrever a comparação adequada."
      ]
    },
    {
      "cell_type": "code",
      "execution_count": 8,
      "metadata": {
        "id": "Y6JUhNiT695t",
        "outputId": "80dd0773-b4a7-4735-ed56-2fed7d351993",
        "colab": {
          "base_uri": "https://localhost:8080/"
        }
      },
      "outputs": [
        {
          "output_type": "execute_result",
          "data": {
            "text/plain": [
              "array([3, 3, 6, 2, 4, 5, 4, 4, 2, 0, 3, 3, 2, 8, 2, 3, 3, 3, 0, 4, 4, 2,\n",
              "       6, 6, 0, 3, 4, 3, 5, 2, 1, 3, 2, 2, 3, 2, 4, 4, 5, 7, 3, 5, 3, 3,\n",
              "       2, 2, 3, 6, 2, 2, 4, 3, 5, 2, 5, 3, 0, 2, 1, 1, 4, 4, 4, 6, 2, 4,\n",
              "       1, 2, 5, 5, 3, 4, 1, 4, 1, 1, 7, 1, 2, 1, 3, 7, 0, 4, 4, 0, 6, 1,\n",
              "       3, 4, 2, 5, 4, 5, 5, 3, 4, 6, 8, 2])"
            ]
          },
          "metadata": {},
          "execution_count": 8
        }
      ],
      "source": [
        "# objeto poi - obs: o comando np.random.seed(1234) garante que o mesmo resultado será gerado sempre\n",
        "np.random.seed(1234)\n",
        "poi = np.random.poisson(3, 100)\n",
        "poi"
      ]
    },
    {
      "cell_type": "code",
      "execution_count": 9,
      "metadata": {
        "id": "dWElD2MJ695u",
        "colab": {
          "base_uri": "https://localhost:8080/"
        },
        "outputId": "239f231c-db55-4c0e-b609-b1eeb55023d8"
      },
      "outputs": [
        {
          "output_type": "stream",
          "name": "stdout",
          "text": [
            "[False False False False False False False False False  True False False\n",
            " False False False False False False  True False False False False False\n",
            "  True False False False False False False False False False False False\n",
            " False False False False False False False False False False False False\n",
            " False False False False False False False False  True False False False\n",
            " False False False False False False False False False False False False\n",
            " False False False False False False False False False False  True False\n",
            " False  True False False False False False False False False False False\n",
            " False False False False]\n"
          ]
        }
      ],
      "source": [
        "# i) crie o objeto bool_zero através do operador ==\n",
        "\n",
        "# Criando um array booleano indicando se cada elemento de poi é zero.\n",
        "bool_zero = poi == 0\n",
        "\n",
        "# Imprimindo os resultados.\n",
        "print(bool_zero)"
      ]
    },
    {
      "cell_type": "code",
      "execution_count": 10,
      "metadata": {
        "id": "hr-knXzs695u",
        "colab": {
          "base_uri": "https://localhost:8080/"
        },
        "outputId": "2b7aaf41-6641-432e-b1ef-f7fdd9cf74af"
      },
      "outputs": [
        {
          "output_type": "stream",
          "name": "stdout",
          "text": [
            "O número de zeros em poi é: 6\n"
          ]
        }
      ],
      "source": [
        "# ii) Conte a quantidade de zeros (ou some os elementos de bool_zero)\n",
        "\n",
        "# Contando os valores True (que correspondem aos zeros em poi).\n",
        "numero_de_zeros = np.sum(bool_zero)\n",
        "\n",
        "print(\"O número de zeros em poi é:\", numero_de_zeros)"
      ]
    },
    {
      "cell_type": "code",
      "execution_count": 11,
      "metadata": {
        "id": "5s3DqCup695u",
        "colab": {
          "base_uri": "https://localhost:8080/"
        },
        "outputId": "43ec6244-64a8-4e9d-9c51-c55da51287c2"
      },
      "outputs": [
        {
          "output_type": "stream",
          "name": "stdout",
          "text": [
            "[3 3 6 2 4 5 4 4 2 3 3 2 8 2 3 3 3 4 4 2 6 6 3 4 3 5 2 1 3 2 2 3 2 4 4 5 7\n",
            " 3 5 3 3 2 2 3 6 2 2 4 3 5 2 5 3 2 1 1 4 4 4 6 2 4 1 2 5 5 3 4 1 4 1 1 7 1\n",
            " 2 1 3 7 4 4 6 1 3 4 2 5 4 5 5 3 4 6 8 2]\n"
          ]
        }
      ],
      "source": [
        "# iii) utilize a indexação booleana para criar uma seleção de não-zeros\n",
        "# dica: inverta o objeto bool_zero\n",
        "\n",
        "# Criando um array booleano indicando se cada elemento de poi é diferente de zero.\n",
        "bool_nao_zero = poi != 0\n",
        "\n",
        "# Criando um novo array com os valores não nulos.\n",
        "poi_nao_zero = poi[bool_nao_zero]\n",
        "\n",
        "print(poi_nao_zero)"
      ]
    },
    {
      "cell_type": "markdown",
      "source": [
        "\n",
        "\n",
        "---\n",
        "\n"
      ],
      "metadata": {
        "id": "uivq7dZ10k7L"
      }
    }
  ],
  "metadata": {
    "colab": {
      "provenance": [],
      "include_colab_link": true
    },
    "kernelspec": {
      "display_name": "Python 3 (ipykernel)",
      "language": "python",
      "name": "python3"
    },
    "language_info": {
      "codemirror_mode": {
        "name": "ipython",
        "version": 3
      },
      "file_extension": ".py",
      "mimetype": "text/x-python",
      "name": "python",
      "nbconvert_exporter": "python",
      "pygments_lexer": "ipython3",
      "version": "3.12.4"
    }
  },
  "nbformat": 4,
  "nbformat_minor": 0
}