{
  "cells": [
    {
      "cell_type": "markdown",
      "metadata": {
        "id": "view-in-github",
        "colab_type": "text"
      },
      "source": [
        "<a href=\"https://colab.research.google.com/github/RennanRnz/RennanRnz/blob/main/MOD4_EXaulaS01e02.ipynb\" target=\"_parent\"><img src=\"https://colab.research.google.com/assets/colab-badge.svg\" alt=\"Open In Colab\"/></a>"
      ]
    },
    {
      "cell_type": "markdown",
      "metadata": {
        "id": "ZXcGHTcc_-_j"
      },
      "source": [
        "# Tarefa 01\n",
        "\n",
        "- Leia os enunciados com atenção\n",
        "- Saiba que pode haver mais de uma resposta correta\n",
        "- Insira novas células de código sempre que achar necessário\n",
        "- Em caso de dúvidas, procure os tutores\n",
        "- Divirta-se :)\n",
        "\n",
        "#### 1)  crie uma série do pandas a partir de uma lista com os dados abaixo:\n",
        "\n",
        "Em um estudo sobre alteração na tempreatura global, A NASA disponibiliza dados de diferenças de de temperatura média da superfície terrestre relativos às médias de temperatura entre 1951 e 1980. Os dados originais podem ser vistos no site da NASA/GISS, e estão dispostos a cada década na tabela abaixo.\n",
        "\n",
        "|ano|anomalia termica|\n",
        "|:-:|:----:|\n",
        "| 1900 | -0.08 |\n",
        "| 1920 | -0.27 |\n",
        "| 1940 | 0.12 |\n",
        "| 1960 | -0.03 |\n",
        "| 1980 | 0.26 |\n",
        "| 2000 | 0.40 |\n",
        "| 2020 | 1.02 |\n",
        "\n",
        "Crie uma séries do Pandas a partir de uma lista com esses dados."
      ]
    },
    {
      "cell_type": "code",
      "execution_count": 16,
      "metadata": {
        "colab": {
          "base_uri": "https://localhost:8080/"
        },
        "id": "_7rxbGJF_-_t",
        "outputId": "df9f5577-bc35-480a-e186-766b5c82b2ba"
      },
      "outputs": [
        {
          "output_type": "stream",
          "name": "stdout",
          "text": [
            "1900   -0.08\n",
            "1920   -0.27\n",
            "1940    0.12\n",
            "1960   -0.03\n",
            "1980    0.26\n",
            "2000    0.40\n",
            "2020    1.02\n",
            "dtype: float64\n"
          ]
        }
      ],
      "source": [
        "import pandas as pd\n",
        "import numpy as np\n",
        "\n",
        "# Criando listas com os dados.\n",
        "anos = [1900, 1920, 1940, 1960, 1980, 2000, 2020]\n",
        "anomalias = [-0.08, -0.27, 0.12, -0.03, 0.26, 0.40, 1.02]\n",
        "\n",
        "# Criando um dicionário com os dados.\n",
        "dados = {'ano': anos, 'anomalia_termica': anomalias}\n",
        "\n",
        "# Criando a Série do Pandas.\n",
        "serie_anomalias = pd.Series(data=dados['anomalia_termica'], index=dados['ano'])\n",
        "\n",
        "print(serie_anomalias)"
      ]
    },
    {
      "cell_type": "markdown",
      "metadata": {
        "id": "KTuR4dUV_-_x"
      },
      "source": [
        "#### 2) Coloque os anos nos índices conforme a tabela."
      ]
    },
    {
      "cell_type": "code",
      "execution_count": 17,
      "metadata": {
        "colab": {
          "base_uri": "https://localhost:8080/"
        },
        "id": "uDU6qOUJ_-_y",
        "outputId": "1d184cc7-c5e7-48b1-c457-e1f8d425966b"
      },
      "outputs": [
        {
          "output_type": "stream",
          "name": "stdout",
          "text": [
            "1900   -0.08\n",
            "1920   -0.27\n",
            "1940    0.12\n",
            "1960   -0.03\n",
            "1980    0.26\n",
            "2000    0.40\n",
            "2020    1.02\n",
            "dtype: float64\n"
          ]
        }
      ],
      "source": [
        "# Criando a Série do Pandas com os anos como índice.\n",
        "serie_anomalias = pd.Series(data=dados['anomalia_termica'], index=anos)\n",
        "\n",
        "print(serie_anomalias)"
      ]
    },
    {
      "cell_type": "markdown",
      "metadata": {
        "id": "BPWCGtaC_-_z"
      },
      "source": [
        "#### 3) A partir do dicionário abaixo, crie uma séries do Pandas:"
      ]
    },
    {
      "cell_type": "code",
      "execution_count": 18,
      "metadata": {
        "colab": {
          "base_uri": "https://localhost:8080/"
        },
        "id": "jvKtrChR_-_0",
        "outputId": "a9e317c3-1ee4-4672-deb3-b00d13f03bf6"
      },
      "outputs": [
        {
          "output_type": "stream",
          "name": "stdout",
          "text": [
            "1900   -0.08\n",
            "1920   -0.27\n",
            "1940    0.12\n",
            "1960   -0.03\n",
            "1980    0.26\n",
            "2000    0.40\n",
            "2020    1.02\n",
            "dtype: float64\n"
          ]
        }
      ],
      "source": [
        "dic_temperaturas = {1900: -.08, 1920: -.27, 1940: .12, 1960: -.03, 1980: .26, 2000: .40, 2020: 1.02}\n",
        "\n",
        "# Criando a Série do Pandas diretamente a partir do dicionário.\n",
        "serie_temperaturas = pd.Series(dic_temperaturas)\n",
        "\n",
        "print(serie_temperaturas)\n"
      ]
    },
    {
      "cell_type": "markdown",
      "metadata": {
        "id": "GL3SnUeN_-_1"
      },
      "source": [
        "#### 4) Transforme o ndarray abaixo em um dataframe.\n",
        "O numpy é capaz de gerar arrays n-dimensionais com números pseudo-aleatórios de acordo com uma variedade de distribuições, como no exemplo abaixo. Transforme esse nd-array em um DataFrame."
      ]
    },
    {
      "cell_type": "code",
      "execution_count": 19,
      "metadata": {
        "colab": {
          "base_uri": "https://localhost:8080/"
        },
        "id": "D2LcP4Hi_-_2",
        "outputId": "fe1517ab-c6bf-4d12-d717-922015c91e31"
      },
      "outputs": [
        {
          "output_type": "stream",
          "name": "stdout",
          "text": [
            "             0           1           2\n",
            "0   105.927861  118.239318  119.996932\n",
            "1   104.009308  111.289115  109.137741\n",
            "2    90.878811   99.676847  105.608484\n",
            "3    89.255497  112.531493  115.181465\n",
            "4    92.549114  105.365219  103.979425\n",
            "5    97.054988  101.459724   96.284141\n",
            "6    87.936163   92.305423  102.442151\n",
            "7    98.135350  114.535966  115.590939\n",
            "8   100.449422  105.446927  100.761685\n",
            "9   109.118937  107.428247  109.363391\n",
            "10   96.641678  107.412758   82.043938\n",
            "11   94.815754   91.781831   94.676033\n",
            "12   96.941283  113.664209  104.096693\n",
            "13  111.582925   81.444600   98.486894\n",
            "14   83.830335  102.474771  108.943242\n",
            "15   95.478326  107.429103   85.760742\n",
            "16   91.946518   98.163965   91.722760\n",
            "17  107.773076  103.168163   93.680728\n",
            "18  109.703689   93.811163   98.126409\n",
            "19   78.555004   98.816381   90.221240\n"
          ]
        }
      ],
      "source": [
        "arr = np.random.normal(100, 10, (20,3))\n",
        "\n",
        "# Convertendo o array para um DataFrame.\n",
        "df = pd.DataFrame(arr)\n",
        "\n",
        "# Visualizando o DataFrame.\n",
        "print(df)"
      ]
    },
    {
      "cell_type": "markdown",
      "metadata": {
        "id": "Rbw8Ynu__-_4"
      },
      "source": [
        "#### 5) Nomeie os índices das linhas com inteiros de 1 a 20, e as colunas com os nomes \"x1\", \"x2\", e \"x3\" respectivamente."
      ]
    },
    {
      "cell_type": "code",
      "execution_count": 20,
      "metadata": {
        "colab": {
          "base_uri": "https://localhost:8080/"
        },
        "id": "4Zt0Lz6T_-_6",
        "outputId": "528a36c0-2621-4ae8-b6bc-35f45c94cd26"
      },
      "outputs": [
        {
          "output_type": "stream",
          "name": "stdout",
          "text": [
            "            x1          x2          x3\n",
            "1   105.927861  118.239318  119.996932\n",
            "2   104.009308  111.289115  109.137741\n",
            "3    90.878811   99.676847  105.608484\n",
            "4    89.255497  112.531493  115.181465\n",
            "5    92.549114  105.365219  103.979425\n",
            "6    97.054988  101.459724   96.284141\n",
            "7    87.936163   92.305423  102.442151\n",
            "8    98.135350  114.535966  115.590939\n",
            "9   100.449422  105.446927  100.761685\n",
            "10  109.118937  107.428247  109.363391\n",
            "11   96.641678  107.412758   82.043938\n",
            "12   94.815754   91.781831   94.676033\n",
            "13   96.941283  113.664209  104.096693\n",
            "14  111.582925   81.444600   98.486894\n",
            "15   83.830335  102.474771  108.943242\n",
            "16   95.478326  107.429103   85.760742\n",
            "17   91.946518   98.163965   91.722760\n",
            "18  107.773076  103.168163   93.680728\n",
            "19  109.703689   93.811163   98.126409\n",
            "20   78.555004   98.816381   90.221240\n"
          ]
        }
      ],
      "source": [
        "# Criando um DataFrame com índices e colunas personalizados.\n",
        "df = pd.DataFrame(arr, columns=['x1', 'x2', 'x3'], index=range(1, 21))\n",
        "\n",
        "print(df)"
      ]
    },
    {
      "cell_type": "markdown",
      "metadata": {
        "id": "dTOqFT_C_-_7"
      },
      "source": [
        "#### 6) No DataFrame do exercício 5, crie uma nova coluna como sendo a média das três colunas, e dê a ela o nome de \"media\" (não recomendo colocar acentos em nomes de variáveis)."
      ]
    },
    {
      "cell_type": "code",
      "execution_count": 21,
      "metadata": {
        "colab": {
          "base_uri": "https://localhost:8080/"
        },
        "id": "MH9ASKaH_-_8",
        "outputId": "35ae7d73-fbf5-4781-b547-87dffd12c48f"
      },
      "outputs": [
        {
          "output_type": "stream",
          "name": "stdout",
          "text": [
            "            x1          x2          x3       media\n",
            "1   105.927861  118.239318  119.996932  114.721370\n",
            "2   104.009308  111.289115  109.137741  108.145388\n",
            "3    90.878811   99.676847  105.608484   98.721381\n",
            "4    89.255497  112.531493  115.181465  105.656152\n",
            "5    92.549114  105.365219  103.979425  100.631253\n",
            "6    97.054988  101.459724   96.284141   98.266284\n",
            "7    87.936163   92.305423  102.442151   94.227912\n",
            "8    98.135350  114.535966  115.590939  109.420752\n",
            "9   100.449422  105.446927  100.761685  102.219345\n",
            "10  109.118937  107.428247  109.363391  108.636858\n",
            "11   96.641678  107.412758   82.043938   95.366124\n",
            "12   94.815754   91.781831   94.676033   93.757872\n",
            "13   96.941283  113.664209  104.096693  104.900728\n",
            "14  111.582925   81.444600   98.486894   97.171473\n",
            "15   83.830335  102.474771  108.943242   98.416116\n",
            "16   95.478326  107.429103   85.760742   96.222724\n",
            "17   91.946518   98.163965   91.722760   93.944414\n",
            "18  107.773076  103.168163   93.680728  101.540656\n",
            "19  109.703689   93.811163   98.126409  100.547087\n",
            "20   78.555004   98.816381   90.221240   89.197542\n"
          ]
        }
      ],
      "source": [
        "# Calculando a média por linha e adicionando como nova coluna.\n",
        "df['media'] = df[['x1', 'x2', 'x3']].mean(axis=1)\n",
        "\n",
        "print(df)"
      ]
    },
    {
      "cell_type": "markdown",
      "metadata": {
        "id": "CjAdk6gn_-_9"
      },
      "source": [
        "#### 7) No DataFrame do exercício 6, crie uma nova coluna chamada \"log_med\", contendo o logaritmo natural da média calculada no exercício 6 <br>"
      ]
    },
    {
      "cell_type": "code",
      "execution_count": 22,
      "metadata": {
        "colab": {
          "base_uri": "https://localhost:8080/"
        },
        "id": "221T6hHy_-_9",
        "outputId": "6fedd745-a565-4147-b52f-f934dc3b15ff"
      },
      "outputs": [
        {
          "output_type": "stream",
          "name": "stdout",
          "text": [
            "            x1          x2          x3       media   log_med\n",
            "1   105.927861  118.239318  119.996932  114.721370  4.742506\n",
            "2   104.009308  111.289115  109.137741  108.145388  4.683477\n",
            "3    90.878811   99.676847  105.608484   98.721381  4.592302\n",
            "4    89.255497  112.531493  115.181465  105.656152  4.660190\n",
            "5    92.549114  105.365219  103.979425  100.631253  4.611463\n",
            "6    97.054988  101.459724   96.284141   98.266284  4.587681\n",
            "7    87.936163   92.305423  102.442151   94.227912  4.545716\n",
            "8    98.135350  114.535966  115.590939  109.420752  4.695201\n",
            "9   100.449422  105.446927  100.761685  102.219345  4.627121\n",
            "10  109.118937  107.428247  109.363391  108.636858  4.688011\n",
            "11   96.641678  107.412758   82.043938   95.366124  4.557723\n",
            "12   94.815754   91.781831   94.676033   93.757872  4.540716\n",
            "13   96.941283  113.664209  104.096693  104.900728  4.653014\n",
            "14  111.582925   81.444600   98.486894   97.171473  4.576477\n",
            "15   83.830335  102.474771  108.943242   98.416116  4.589205\n",
            "16   95.478326  107.429103   85.760742   96.222724  4.566666\n",
            "17   91.946518   98.163965   91.722760   93.944414  4.542703\n",
            "18  107.773076  103.168163   93.680728  101.540656  4.620459\n",
            "19  109.703689   93.811163   98.126409  100.547087  4.610626\n",
            "20   78.555004   98.816381   90.221240   89.197542  4.490853\n"
          ]
        }
      ],
      "source": [
        "# Calculando o 'log_med' e adicionando como nova coluna.\n",
        "df['log_med'] = np.log(df['media'])\n",
        "\n",
        "print(df)"
      ]
    },
    {
      "cell_type": "markdown",
      "metadata": {
        "id": "Dw0zfihh_-_-"
      },
      "source": [
        "-----------------------------------------------------------------------------------"
      ]
    }
  ],
  "metadata": {
    "kernelspec": {
      "display_name": "Python 3 (ipykernel)",
      "language": "python",
      "name": "python3"
    },
    "language_info": {
      "codemirror_mode": {
        "name": "ipython",
        "version": 3
      },
      "file_extension": ".py",
      "mimetype": "text/x-python",
      "name": "python",
      "nbconvert_exporter": "python",
      "pygments_lexer": "ipython3",
      "version": "3.12.4"
    },
    "colab": {
      "provenance": [],
      "include_colab_link": true
    }
  },
  "nbformat": 4,
  "nbformat_minor": 0
}